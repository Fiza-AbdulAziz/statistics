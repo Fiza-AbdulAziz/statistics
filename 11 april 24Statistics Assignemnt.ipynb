{
 "cells": [
  {
   "cell_type": "markdown",
   "id": "416ca578-9dbb-4463-82d5-fb967f25db0d",
   "metadata": {},
   "source": [
    "Assignment : Statistics Assignemnt1\n",
    "1. Generate a list 100  integers containing values between 90 to 130 and store it in the variable `int_list`.\r",
    "a\n",
    ">ter generating the list,>ind th e>ollowing: \r\n",
    "  (i) Write a Python function to calculate the mean of a given list of bers..\r\n",
    "\r\n",
    "Create a function to find the median of a listumbers.\r\n",
    "  \r\n",
    "\r\n",
    "  (ii) Develop a program to compute the mode of  inta lis.e.\r\n",
    "\r\n",
    "  \r\n",
    "\r\n",
    "  (iii) Implement a function to calculate the weighted mean of a list of val corresponding uir corre\n",
    "ghts.\r\n",
    "\r\n",
    "  \r\n",
    "\r\n",
    "  (iv) Write a Python function to find the ge metric  posmean of a list  numbers.\r\n",
    "\r\n",
    "  \r\n",
    "\r\n",
    "  (v) Create a program to calcun of ate the harmonic mst of values.\r\n",
    "\r\n",
    "  \r\n",
    "\r\n",
    "  (vi) Build a function to determine the midrange of a list of numbers (average o\n",
    "mum and maximum).\r\n",
    "\r\n",
    "  \r\n",
    "\r\n",
    "  (vii) Implement a Python program to find the trimmed mean of a list, excluding a certain percentage of\r\n",
    "outliers."
   ]
  },
  {
   "cell_type": "code",
   "execution_count": 1,
   "id": "4bb1f2c4-240d-4b6c-b26c-0b3d33cb97d6",
   "metadata": {},
   "outputs": [
    {
     "data": {
      "text/plain": [
       "[118,\n",
       " 108,\n",
       " 113,\n",
       " 106,\n",
       " 118,\n",
       " 90,\n",
       " 102,\n",
       " 90,\n",
       " 105,\n",
       " 122,\n",
       " 108,\n",
       " 120,\n",
       " 99,\n",
       " 110,\n",
       " 94,\n",
       " 104,\n",
       " 128,\n",
       " 90,\n",
       " 111,\n",
       " 119,\n",
       " 95,\n",
       " 113,\n",
       " 124,\n",
       " 124,\n",
       " 122,\n",
       " 106,\n",
       " 113,\n",
       " 113,\n",
       " 95,\n",
       " 121,\n",
       " 112,\n",
       " 112,\n",
       " 116,\n",
       " 91,\n",
       " 107,\n",
       " 105,\n",
       " 98,\n",
       " 101,\n",
       " 114,\n",
       " 108,\n",
       " 105,\n",
       " 124,\n",
       " 107,\n",
       " 95,\n",
       " 127,\n",
       " 101,\n",
       " 105,\n",
       " 105,\n",
       " 112,\n",
       " 113,\n",
       " 120,\n",
       " 90,\n",
       " 104,\n",
       " 119,\n",
       " 126,\n",
       " 98,\n",
       " 117,\n",
       " 120,\n",
       " 106,\n",
       " 99,\n",
       " 116,\n",
       " 116,\n",
       " 127,\n",
       " 128,\n",
       " 125,\n",
       " 120,\n",
       " 103,\n",
       " 93,\n",
       " 126,\n",
       " 125,\n",
       " 99,\n",
       " 127,\n",
       " 111,\n",
       " 100,\n",
       " 100,\n",
       " 91,\n",
       " 100,\n",
       " 116,\n",
       " 103,\n",
       " 100,\n",
       " 107,\n",
       " 129,\n",
       " 106,\n",
       " 123,\n",
       " 99,\n",
       " 112,\n",
       " 128,\n",
       " 92,\n",
       " 129,\n",
       " 129,\n",
       " 106,\n",
       " 92,\n",
       " 90,\n",
       " 129,\n",
       " 97,\n",
       " 120,\n",
       " 104,\n",
       " 106,\n",
       " 96,\n",
       " 105]"
      ]
     },
     "execution_count": 1,
     "metadata": {},
     "output_type": "execute_result"
    }
   ],
   "source": [
    "import random\n",
    "int_list=[random.randint(90,130) for _ in range(100)]\n",
    "int_list"
   ]
  },
  {
   "cell_type": "code",
   "execution_count": 2,
   "id": "32bda674-806d-4c0a-96d9-522dfd3dd7d4",
   "metadata": {},
   "outputs": [
    {
     "name": "stdout",
     "output_type": "stream",
     "text": [
      "mean_of_list: 109.63\n"
     ]
    }
   ],
   "source": [
    "#1.Write a Python function to calculate the mean of a given list of numbers.Create a function to find the median of a list of numbers.\n",
    "def calculate_mean(int_list):\n",
    "    if not int_list:\n",
    "        return 0\n",
    "    return sum(int_list)/len(int_list)\n",
    "\n",
    "mean=calculate_mean(int_list)\n",
    "print(\"mean_of_list:\",mean)"
   ]
  },
  {
   "cell_type": "code",
   "execution_count": 3,
   "id": "f04f8a30-0a98-4430-bcaf-1b33b38b575d",
   "metadata": {},
   "outputs": [
    {
     "name": "stdout",
     "output_type": "stream",
     "text": [
      "median: 108.0\n"
     ]
    }
   ],
   "source": [
    "def calculate_median(int_list):\n",
    "    if not int_list:\n",
    "        return 0\n",
    "    else:\n",
    "        sort_no=sorted(int_list)\n",
    "        n=len(int_list)\n",
    "        mid=n//2\n",
    "        if n%2==0:\n",
    "            median=(sort_no[mid-1]+sort_no[mid])/2\n",
    "        else:\n",
    "            median=sort_no[mid]\n",
    "    return median\n",
    "\n",
    "median=calculate_median(int_list)\n",
    "print(\"median:\",median)"
   ]
  },
  {
   "cell_type": "code",
   "execution_count": 4,
   "id": "f53dd3b6-71ea-437c-afb8-903c8c793840",
   "metadata": {},
   "outputs": [
    {
     "name": "stdout",
     "output_type": "stream",
     "text": [
      "mean_of_list: 109.63\n",
      "median: 108.0\n"
     ]
    }
   ],
   "source": [
    "import numpy as np \n",
    "mean_of_list=np.mean(int_list)\n",
    "print(\"mean_of_list:\",mean_of_list)\n",
    "median =np.median(int_list)\n",
    "print(\"median:\",median)"
   ]
  },
  {
   "cell_type": "code",
   "execution_count": 5,
   "id": "88858aa8-596f-4da0-8f7a-ee06a84e0181",
   "metadata": {},
   "outputs": [
    {
     "name": "stdout",
     "output_type": "stream",
     "text": [
      "mode: [106, 105]\n"
     ]
    }
   ],
   "source": [
    "#2.Develop a program to compute the mode of a list of integers.\n",
    "def cal_mode(int_list):\n",
    "    if not int_list:\n",
    "        return None\n",
    "    frequency ={}\n",
    "    for num in int_list:\n",
    "        if num in frequency:\n",
    "            frequency[num] +=1\n",
    "        else:\n",
    "            frequency[num] =1\n",
    "\n",
    "    max_count =max(frequency.values())\n",
    "    mode= [num for num,count in frequency.items() if count==max_count]\n",
    "\n",
    "    if len(mode)==1:\n",
    "       return mode[0]\n",
    "    else:\n",
    "        return mode\n",
    "\n",
    "mode=cal_mode(int_list)\n",
    "print(\"mode:\",mode)"
   ]
  },
  {
   "cell_type": "code",
   "execution_count": 6,
   "id": "db981a7c-9217-4d12-a5d4-4a6d97c74d10",
   "metadata": {},
   "outputs": [
    {
     "name": "stdout",
     "output_type": "stream",
     "text": [
      "weighted mea:109.23137254901961\n"
     ]
    }
   ],
   "source": [
    "#3.Implement a function to calculate the weighted mean of a list of values and their corresponding weights.\n",
    "import numpy as np\n",
    "weights=np.random.randint(1,5,100)\n",
    "def weighted_mean(values,weights):\n",
    "    values=np.array(values)\n",
    "    weights=np.array(weights)\n",
    "    return np.sum(values*weights)/np.sum(weights)\n",
    "\n",
    "result=weighted_mean(int_list,weights)\n",
    "print(f\"weighted mea:{result}\")"
   ]
  },
  {
   "cell_type": "code",
   "execution_count": 7,
   "id": "1ab3b856-1a75-43b6-8a4e-5c0e8147e19c",
   "metadata": {},
   "outputs": [
    {
     "name": "stdout",
     "output_type": "stream",
     "text": [
      " geometric mean:0.0\n"
     ]
    }
   ],
   "source": [
    "#4.Write a Python function to find the geometric mean of a list of positive numbers.\n",
    "def geo_mean(number):\n",
    "    number=np.array(number)\n",
    "    product=np.prod(number)\n",
    "    mean=product **(1/len(number))\n",
    "    return mean\n",
    "\n",
    "result=geo_mean(int_list)\n",
    "print(f\" geometric mean:{result}\")"
   ]
  },
  {
   "cell_type": "code",
   "execution_count": 8,
   "id": "19da051b-a5e7-4b89-9c92-b42f20e03239",
   "metadata": {},
   "outputs": [
    {
     "name": "stdout",
     "output_type": "stream",
     "text": [
      " harmonic mean:108.40940390766052\n"
     ]
    }
   ],
   "source": [
    "#5.Create a program to calculate the harmonic mean a list of values.\n",
    "\n",
    "def harmonic_mean(values):\n",
    "    if any(v <= 0 for v in values):\n",
    "        raise ValueError(\"All values must be positive numbers.\")\n",
    "    n = len(values)\n",
    "    reciprocal_sum = sum(1 / v for v in values)\n",
    "    mean = n / reciprocal_sum\n",
    "    return mean\n",
    "\n",
    "result=harmonic_mean(int_list)\n",
    "print(f\" harmonic mean:{result}\")"
   ]
  },
  {
   "cell_type": "code",
   "execution_count": 9,
   "id": "88ed1d53-fcf9-44a9-b918-96d3ee54225c",
   "metadata": {},
   "outputs": [
    {
     "name": "stdout",
     "output_type": "stream",
     "text": [
      "max:129 ,min: 90\n",
      " mid_range:109.5\n"
     ]
    }
   ],
   "source": [
    "#(vi) Build a function to determine the midrange of a list of numbers (average o minimum and maximum).\n",
    "def mid_range(number):\n",
    "    if not number:\n",
    "        return 0\n",
    "    maximum=max(number)\n",
    "    minimum=min(number)\n",
    "    print(f\"max:{ maximum} ,min: {minimum}\")\n",
    "    range=(maximum+minimum)/2\n",
    "    return range\n",
    "result=mid_range(int_list)\n",
    "print(f\" mid_range:{result}\")\n"
   ]
  },
  {
   "cell_type": "code",
   "execution_count": 10,
   "id": "68ca607a-cc48-4d8c-9c46-250cc6844cf3",
   "metadata": {},
   "outputs": [
    {
     "name": "stdout",
     "output_type": "stream",
     "text": [
      "Trimmed mean (excluding 10% outliers): 109.6625\n"
     ]
    }
   ],
   "source": [
    "#(vii) Implement a Python program to find the trimmed mean of a list, excluding a certain percentage of outliers.\n",
    "\n",
    "def trimmed_mean(numbers, percentage):\n",
    "    if not numbers or percentage < 0 or percentage > 100:\n",
    "        raise ValueError(\"Invalid input: List is empty or percentage is out of range (0-100).\")\n",
    "    # Sort the list\n",
    "    sorted_numbers = sorted(numbers)\n",
    "    # Calculate the number of items to trim from each end\n",
    "    n = len(sorted_numbers)\n",
    "    trim_count = int(n * percentage / 100)\n",
    "    # Trim the smallest and largest values\n",
    "    trimmed_list = sorted_numbers[trim_count:n-trim_count]\n",
    "    # Calculate the mean of the trimmed list using statistics module\n",
    "    mean = np.mean(trimmed_list)\n",
    "    return mean\n",
    "percentage = 10  # Percentage of outliers to trim from each end\n",
    "\n",
    "result = trimmed_mean(int_list, percentage)\n",
    "print(f\"Trimmed mean (excluding {percentage}% outliers): {result}\")\n"
   ]
  },
  {
   "cell_type": "markdown",
   "id": "e26aaf5f-943b-485d-80b4-508bc0e7f556",
   "metadata": {},
   "source": [
    "Generate a list of 500 integers containing values between 200 to 300 and store it in the variable `int_list2`.\n",
    "After generating the list, find the following:\n",
    "  (i) Compare the given list of visualization for the given data:\n",
    "    1. Frequency & Gaussian distribution\n",
    "    2. Frequency smoothened KDE plot\n",
    "    3. Gaussian distribution & smoothened KDE plot\n",
    "\n",
    "  (ii) Write a Python function to calculate the range of a given list of numbers.\n",
    "\n",
    "  (iii) Create a program to find the variance and standard deviation of a list of numbers.\n",
    "\n",
    "  (iv) Implement a function to compute the interquartile range (IQR) of a list of values.\n",
    "\n",
    "  (v) Build a program to calculate the coefficient of variation for a dataset.\n",
    "\n",
    "  (vi) Write a Python function to find the mean absolute deviation (MAD) of a list of numbers.\n",
    "\n",
    "  (vii) Create a program to calculate the quartile deviation of a list of values.\n",
    "\n",
    "  (viii) Implement a function to find the range-based coefficient of dispersion for a dataset."
   ]
  },
  {
   "cell_type": "code",
   "execution_count": 11,
   "id": "1876815c-63a4-4251-8785-5e0421648696",
   "metadata": {},
   "outputs": [
    {
     "data": {
      "text/plain": [
       "array([220, 254, 268, 286, 260, 234, 240, 281, 256, 279, 241, 225, 286,\n",
       "       246, 296, 224, 268, 239, 233, 255, 274, 235, 298, 230, 274, 264,\n",
       "       293, 231, 222, 224, 296, 278, 295, 284, 226, 254, 239, 254, 236,\n",
       "       247, 204, 289, 287, 215, 281, 208, 209, 248, 271, 246, 234, 291,\n",
       "       226, 207, 226, 292, 283, 249, 202, 233, 291, 246, 262, 282, 210,\n",
       "       239, 216, 240, 259, 286, 275, 269, 299, 268, 298, 217, 261, 294,\n",
       "       238, 299, 252, 224, 285, 259, 266, 218, 299, 296, 235, 258, 281,\n",
       "       277, 257, 248, 230, 207, 222, 290, 210, 249, 238, 275, 281, 277,\n",
       "       212, 231, 254, 233, 299, 229, 248, 203, 270, 217, 289, 296, 269,\n",
       "       264, 201, 252, 225, 265, 250, 246, 233, 267, 220, 225, 260, 209,\n",
       "       235, 252, 230, 212, 248, 246, 282, 291, 205, 268, 254, 237, 285,\n",
       "       212, 240, 275, 244, 212, 268, 205, 269, 212, 294, 231, 296, 208,\n",
       "       264, 213, 224, 223, 213, 281, 230, 210, 227, 259, 212, 270, 202,\n",
       "       240, 212, 270, 280, 284, 273, 288, 275, 224, 280, 267, 265, 204,\n",
       "       282, 267, 274, 214, 263, 270, 208, 278, 203, 245, 292, 218, 252,\n",
       "       293, 215, 287, 217, 224, 258, 228, 241, 265, 290, 280, 209, 294,\n",
       "       296, 249, 220, 224, 220, 264, 264, 205, 221, 233, 275, 220, 203,\n",
       "       204, 296, 295, 251, 228, 234, 244, 209, 251, 207, 202, 216, 235,\n",
       "       264, 282, 283, 286, 265, 243, 289, 267, 228, 228, 245, 221, 217,\n",
       "       276, 277, 234, 203, 227, 228, 213, 227, 294, 201, 231, 270, 255,\n",
       "       256, 225, 206, 293, 286, 226, 262, 268, 254, 206, 234, 200, 230,\n",
       "       289, 215, 254, 218, 263, 212, 264, 289, 287, 228, 285, 257, 247,\n",
       "       275, 264, 279, 202, 213, 277, 236, 294, 228, 222, 254, 200, 264,\n",
       "       216, 220, 266, 223, 239, 247, 213, 218, 269, 279, 260, 300, 251,\n",
       "       294, 288, 231, 249, 233, 269, 285, 291, 208, 291, 208, 202, 214,\n",
       "       299, 274, 272, 272, 262, 204, 201, 213, 221, 238, 223, 265, 279,\n",
       "       272, 287, 289, 257, 234, 289, 281, 258, 267, 234, 270, 296, 244,\n",
       "       255, 295, 209, 270, 217, 290, 206, 248, 250, 299, 225, 260, 282,\n",
       "       277, 226, 207, 278, 226, 212, 228, 211, 236, 202, 284, 285, 269,\n",
       "       264, 288, 242, 293, 208, 210, 291, 296, 261, 226, 284, 264, 202,\n",
       "       253, 291, 257, 232, 283, 230, 208, 266, 210, 236, 234, 221, 261,\n",
       "       291, 261, 274, 228, 267, 290, 213, 271, 276, 283, 238, 266, 252,\n",
       "       278, 295, 235, 280, 282, 297, 232, 262, 254, 261, 221, 235, 257,\n",
       "       230, 274, 288, 270, 299, 291, 200, 271, 253, 293, 220, 210, 258,\n",
       "       246, 202, 290, 260, 234, 277, 278, 246, 211, 258, 257, 268, 258,\n",
       "       277, 227, 237, 214, 246, 224, 258, 270, 290, 230, 275, 240, 220,\n",
       "       267, 290, 222, 256, 229, 254, 214, 298, 288, 224, 223, 299, 265,\n",
       "       245, 300, 291, 235, 280, 277, 294, 259, 207, 287, 218, 206, 216,\n",
       "       215, 252, 248, 290, 296, 267])"
      ]
     },
     "execution_count": 11,
     "metadata": {},
     "output_type": "execute_result"
    }
   ],
   "source": [
    "int_list2=np.random.randint(200,301,500)\n",
    "int_list2"
   ]
  },
  {
   "cell_type": "markdown",
   "id": "26bac499-4da9-4629-ae2a-c8217d512184",
   "metadata": {},
   "source": [
    "  (i) Compare the given list of visualization for the given data:\n",
    "    1. Frequency & Gaussian distribution\n",
    "    2. Frequency smoothened KDE plot\n",
    "    3. Gaussian distribution & smoothened KDE plot\n"
   ]
  },
  {
   "cell_type": "code",
   "execution_count": 12,
   "id": "038246b8-ddff-4d20-a5a8-a13ffe1856ff",
   "metadata": {},
   "outputs": [
    {
     "name": "stderr",
     "output_type": "stream",
     "text": [
      "D:\\Anaconda\\Lib\\site-packages\\seaborn\\_oldcore.py:1119: FutureWarning: use_inf_as_na option is deprecated and will be removed in a future version. Convert inf values to NaN before operating instead.\n",
      "  with pd.option_context('mode.use_inf_as_na', True):\n",
      "D:\\Anaconda\\Lib\\site-packages\\seaborn\\_oldcore.py:1119: FutureWarning: use_inf_as_na option is deprecated and will be removed in a future version. Convert inf values to NaN before operating instead.\n",
      "  with pd.option_context('mode.use_inf_as_na', True):\n",
      "D:\\Anaconda\\Lib\\site-packages\\seaborn\\_oldcore.py:1119: FutureWarning: use_inf_as_na option is deprecated and will be removed in a future version. Convert inf values to NaN before operating instead.\n",
      "  with pd.option_context('mode.use_inf_as_na', True):\n"
     ]
    },
    {
     "data": {
      "image/png": "[encoded data removed]",
      "text/plain": [
       "<Figure size 1500x500 with 3 Axes>"
      ]
     },
     "metadata": {},
     "output_type": "display_data"
    }
   ],
   "source": [
    "import pandas as pd\n",
    "import matplotlib.pyplot as plt\n",
    "import seaborn as sns\n",
    "from scipy.stats import norm\n",
    "int_list2=np.random.randint(200,301,500)\n",
    "int_list2\n",
    "\n",
    "df=pd.DataFrame(int_list2,columns=['values'])\n",
    "\n",
    "plt.figure(figsize=(15,5))\n",
    "\n",
    "plt.subplot(1,3,1)\n",
    "sns.histplot(df['values'],kde=False,bins=20)\n",
    "plt.title(\"Frequency distribution\")\n",
    "\n",
    "plt.subplot(1,3,2)\n",
    "sns.histplot(df['values'],kde=True,bins=20)\n",
    "plt.title(\"KDE plot\")\n",
    "\n",
    "\n",
    "plt.subplot(1,3,3)\n",
    "#kde\n",
    "sns.histplot(df['values'],kde=True,bins=100,stat='density')\n",
    "\n",
    "# Gaussian distribution\n",
    "xmin, xmax = plt.xlim()\n",
    "x = np.linspace(xmin, xmax, 100)\n",
    "p = norm.pdf(x, df['values'].mean(), df['values'].std())\n",
    "plt.plot(x, p, 'k', linewidth=2)\n",
    "plt.title(\"Gaussian distribution & smoothened KDE plot\")\n",
    "\n",
    "plt.tight_layout()\n",
    "plt.show()"
   ]
  },
  {
   "cell_type": "code",
   "execution_count": 13,
   "id": "46261d47-70a6-4d09-8891-6537e41e5797",
   "metadata": {},
   "outputs": [
    {
     "name": "stdout",
     "output_type": "stream",
     "text": [
      "range: 100\n"
     ]
    }
   ],
   "source": [
    "#(ii) Write a Python function to calculate the range of a given list of numbers.\n",
    "def calculate_range(list):\n",
    "    return max(list)-min(list)\n",
    "    \n",
    "range_value=calculate_range(int_list2)\n",
    "print(\"range:\",range_value)"
   ]
  },
  {
   "cell_type": "code",
   "execution_count": 14,
   "id": "16bd8807-8597-49e9-90b7-d29d697b3e6b",
   "metadata": {},
   "outputs": [
    {
     "name": "stdout",
     "output_type": "stream",
     "text": [
      " Variance:806.416 ,StandardDeviation:28.39746467556567\n"
     ]
    }
   ],
   "source": [
    "#(iii) Create a program to find the variance and standard deviation of a list of numbers.\n",
    "def var_and_std_dev(l):\n",
    "    mean=np.mean(l)\n",
    "    variance=np.var(l)\n",
    "    standard_deviation=np.std(l)\n",
    "    return variance,standard_deviation\n",
    "\n",
    "variance,standard_deviation=var_and_std_dev(int_list2)\n",
    "print(f\" Variance:{variance} ,StandardDeviation:{standard_deviation}\")"
   ]
  },
  {
   "cell_type": "code",
   "execution_count": 15,
   "id": "caccdba1-29ba-46b9-86a7-ff6b17f70d3e",
   "metadata": {},
   "outputs": [
    {
     "name": "stdout",
     "output_type": "stream",
     "text": [
      "interquartile range (IQR)= 47.49000000000001\n"
     ]
    }
   ],
   "source": [
    "#(iv) Implement a function to compute the interquartile range (IQR) of a list of values.\n",
    "def cal_interquartile_range(l):\n",
    "    q3,q1=np.percentile(l,[75,24])\n",
    "    return q3 - q1\n",
    "\n",
    "range_value=cal_interquartile_range(int_list2)\n",
    "print(\"interquartile range (IQR)=\",range_value)"
   ]
  },
  {
   "cell_type": "code",
   "execution_count": 16,
   "id": "f1940b2e-fd83-43b2-801f-6c5c6bb6b868",
   "metadata": {},
   "outputs": [
    {
     "name": "stdout",
     "output_type": "stream",
     "text": [
      "cof_of_variation is 11.395451314432451\n"
     ]
    }
   ],
   "source": [
    "#(v) Build a program to calculate the coefficient of variation for a dataset.\n",
    "#coefficient of variation = stdev/mean * 100\n",
    "def cof_of_variation(l):\n",
    "    mean=np.mean(l)\n",
    "    std_dev=np.std(l)\n",
    "    return (std_dev/mean)*100\n",
    "\n",
    "cv=cof_of_variation(int_list2)\n",
    "print(f\"cof_of_variation is {cv}\" )"
   ]
  },
  {
   "cell_type": "code",
   "execution_count": 17,
   "id": "260e8ab0-3bc6-4976-9e4f-3d74671cd16c",
   "metadata": {},
   "outputs": [
    {
     "name": "stdout",
     "output_type": "stream",
     "text": [
      " mean absolute deviation :24.473599999999998\n"
     ]
    }
   ],
   "source": [
    "#(vi) Write a Python function to find the mean absolute deviation (MAD) of a list of numbers.\n",
    "def  mean_absolute_deviation(l):\n",
    "    n=len(l)\n",
    "    mean=np.mean(l)\n",
    "    mad=np.mean(np.abs(l-mean))\n",
    "    return mad\n",
    "\n",
    "mad= mean_absolute_deviation(int_list2)\n",
    "print(f\" mean absolute deviation :{mad}\")\n"
   ]
  },
  {
   "cell_type": "code",
   "execution_count": 18,
   "id": "0cf81c50-8687-45bb-b2eb-5b110cd8a3ae",
   "metadata": {},
   "outputs": [
    {
     "name": "stdout",
     "output_type": "stream",
     "text": [
      "quartile_deviation :23.625 \n"
     ]
    }
   ],
   "source": [
    "#(vii) Create a program to calculate the quartile deviation of a list of values.\n",
    "#quartile deviation =q3-q1/2\n",
    "def quartile_deviation(l):\n",
    "     Q3,Q1=np.percentile(l,[75,25])\n",
    "     return(Q3 - Q1) /2\n",
    "qd=quartile_deviation(int_list2)\n",
    "print(f\"quartile_deviation :{qd} \")"
   ]
  },
  {
   "cell_type": "code",
   "execution_count": 19,
   "id": "45b2d7ad-3e78-448c-962c-566e254b9d5f",
   "metadata": {},
   "outputs": [
    {
     "name": "stdout",
     "output_type": "stream",
     "text": [
      "range_base_coefficient_of_dispersion :20.0 \n"
     ]
    }
   ],
   "source": [
    "#(viii) Implement a function to find the range-based coefficient of dispersion for a dataset.\n",
    "#range-based coefficient of dispersion\n",
    "def range_base_coefficient_of_dispersion(l):\n",
    "     range_value=calculate_range(l)\n",
    "     max,min=np.max(l),np.min(l)\n",
    "     return ((range_value)/(max+min)*100)\n",
    "range_cd=range_base_coefficient_of_dispersion(int_list2)\n",
    "print(f\"range_base_coefficient_of_dispersion :{range_cd} \")"
   ]
  },
  {
   "cell_type": "code",
   "execution_count": 20,
   "id": "fe3a44f3-504d-4386-bbc3-24204a441e04",
   "metadata": {},
   "outputs": [
    {
     "name": "stdout",
     "output_type": "stream",
     "text": [
      "Range-based Coefficient of Dispersion: 40.13%\n"
     ]
    }
   ],
   "source": [
    "def calculate_range(lst):\n",
    "    return np.max(lst) - np.min(lst)\n",
    "\n",
    "def range_based_coefficient_of_dispersion(l):\n",
    "    range_value = calculate_range(l)\n",
    "    mean = np.mean(l)\n",
    "    return (range_value / mean) * 100\n",
    "\n",
    "range_cd = range_based_coefficient_of_dispersion(int_list2)\n",
    "print(f\"Range-based Coefficient of Dispersion: {range_cd:.2f}%\")"
   ]
  },
  {
   "cell_type": "code",
   "execution_count": 21,
   "id": "45e3b744-b3b0-4a93-acdc-dc0c7cb0f01a",
   "metadata": {},
   "outputs": [
    {
     "name": "stdout",
     "output_type": "stream",
     "text": [
      "Expected value: 2.0\n",
      "Variance :2.0\n"
     ]
    }
   ],
   "source": [
    "#3. Write a Python class representing a discrete random variable with methods to calculate its expected\n",
    "#value and variance.\n",
    "class discrete_random_variable:\n",
    "    def __init__(self,values,probabilities):\n",
    "        if len(values) != len(probabilities):\n",
    "            raise ValueError(\"Values and probabilities must have the same length.\")\n",
    "        if not np.isclose(sum(probabilities), 1):\n",
    "            raise ValueError(\"Probabilities must sum to 1.\")\n",
    "        \n",
    "        self.values = np.array(values)\n",
    "        self.probabilities = np.array(probabilities)\n",
    "\n",
    "    def expected_value(self):\n",
    "        return np.sum(self.values*self.probabilities)\n",
    "\n",
    "    def variance(self):\n",
    "        mean=self.expected_value()\n",
    "        return np.sum(self.probabilities *(self.values - mean)**2)\n",
    "#usage\n",
    "values=[0,1,2,3,4]\n",
    "probabilities =[0.2,0.2,0.2,0.2,0.2]\n",
    "\n",
    "random_var=discrete_random_variable(values,probabilities)\n",
    "expected_value=random_var.expected_value()\n",
    "variance=random_var.variance()\n",
    "\n",
    "print(f\"Expected value: {expected_value}\")\n",
    "print(f\"Variance :{variance}\")"
   ]
  },
  {
   "cell_type": "code",
   "execution_count": 22,
   "id": "1e37a93c-ee17-4222-8b68-28e1a935bb47",
   "metadata": {},
   "outputs": [
    {
     "name": "stdout",
     "output_type": "stream",
     "text": [
      "Expected value: 3.5\n",
      "Variance :2.9166666666666665\n"
     ]
    }
   ],
   "source": [
    "#4. Implement a program to simulate the rolling of a fair six-sided die and calculate the expected value and\n",
    "#variance of the outcomes.\n",
    "\n",
    "values=[1,2,3,4,5,6]\n",
    "probabilities =[1/6] *6\n",
    "class discrete_random_variable:\n",
    "    def __init__(self,values,probabilities):\n",
    "        if len(values) != len(probabilities):\n",
    "            raise ValueError(\"Values and probabilities must have the same length.\")\n",
    "        if not np.isclose(sum(probabilities), 1):\n",
    "            raise ValueError(\"Probabilities must sum to 1.\")\n",
    "        \n",
    "        self.values = np.array(values)\n",
    "        self.probabilities = np.array(probabilities)\n",
    "\n",
    "    def expected_value(self):\n",
    "        return np.sum(self.values*self.probabilities)\n",
    "\n",
    "    def variance(self):\n",
    "        mean=self.expected_value()\n",
    "        return np.sum(self.probabilities *(self.values - mean)**2)\n",
    "#usage\n",
    "die=discrete_random_variable(values,probabilities)\n",
    "expected_value=die.expected_value()\n",
    "variance=die.variance()\n",
    "\n",
    "print(f\"Expected value: {expected_value}\")\n",
    "print(f\"Variance :{variance}\")"
   ]
  },
  {
   "cell_type": "code",
   "execution_count": 23,
   "id": "bf862585-093f-4884-b09b-8fba706a3222",
   "metadata": {
    "scrolled": true
   },
   "outputs": [
    {
     "name": "stdout",
     "output_type": "stream",
     "text": [
      "binomial sample: [3 1]\n",
      "mean :2.0,variance :1.0\n",
      "binomial sample:\n",
      " [1 3 3 3 1 5 4 3 4 4 4 2 2 3 0 2 2 0 3 1 1 2 3 3 4 4 2 2 4 2 1 3 3 1 3 1 3\n",
      " 2 2 2 2 2 2 4 3 2 1 3 3 1 2 4 3 2 4 2 2 5 1 1 2 2 1 3 3 2 4 3 4 1 2 2 3 3\n",
      " 2 2 2 3 1 0 2 3 2 0 4 2 1 5 1 4 2 3 2 2 2 1 4 3 3 0]\n",
      "mean : 2.38 , variance : 1.3555999999999997\n",
      "\n",
      " poission sample:\n",
      " [ 7  3  2  4  5  6  2  1  4  3  4  4  3  4  7  2  7  4  4  4  5  4  3  3\n",
      "  3  3  6  7  7  7  7  8  6  5  4  4  4  6  5  4  8  6  2  5  0  5  9  6\n",
      "  2  6  9  1  3  6  7  4  4  5  3  2  6  7  8  6  5  4  5  3  2  5  3  4\n",
      "  4  4  5  4  2  5  6  8 12  7  5  4  3  6  5  5 10  2  7  6  7  1  7  3\n",
      " 10  6  7  0]\n",
      "mean : 4.83 , variance : 4.861099999999999\n"
     ]
    }
   ],
   "source": [
    "#5.Create a Python function to generate random samples from a given probability distribution (e.g.,\n",
    "#binomial, Poisson) and calculate their mean and variance.\n",
    "\n",
    "#binomial\n",
    "bio=np.random.binomial(n=3,p=0.5,size=2)\n",
    "mean , variance=np.mean(bio),np.var(bio)\n",
    "print(\"binomial sample:\",bio)\n",
    "print(f\"mean :{mean},variance :{variance}\")\n",
    "\n",
    "#samplesize=100\n",
    "bio=np.random.binomial(n=5,p=0.5,size=100)\n",
    "mean , variance=np.mean(bio),np.var(bio)\n",
    "print(\"binomial sample:\\n\",bio)\n",
    "print(f\"mean : {mean} , variance : {variance}\")\n",
    "\n",
    "#Poisson\n",
    "\n",
    "poisson=np.random.poisson(lam=5,size=100)\n",
    "mean , variance=np.mean(poisson),np.var(poisson)\n",
    "print(\"\\n poission sample:\\n\",poisson)\n",
    "print(f\"mean : {mean} , variance : {variance}\")\n"
   ]
  },
  {
   "cell_type": "code",
   "execution_count": 24,
   "id": "53b7ba05-1fbb-48a9-9119-ac21e2b479ff",
   "metadata": {},
   "outputs": [
    {
     "name": "stdout",
     "output_type": "stream",
     "text": [
      "\n",
      " Gaussian sample:\n",
      " [-7.69075551e-01  1.90596642e+00  8.77700503e-01  6.64601848e-01\n",
      " -2.54377823e-01  1.34119578e+00  8.09151380e-01  1.22698138e+00\n",
      "  8.65647821e-01 -1.58621013e+00  3.77964037e-01 -9.45577054e-01\n",
      " -1.49155574e+00 -1.55895523e+00  9.81381583e-01 -2.27437660e+00\n",
      "  5.80284208e-01  4.87551717e-01  1.32219845e+00  7.66529083e-01\n",
      "  1.28103535e+00  1.14597291e+00 -3.44254211e+00 -1.00456174e+00\n",
      " -1.88846456e-02 -1.06152712e+00  9.20276479e-01 -1.04054352e-01\n",
      "  9.57402814e-01 -3.20260339e-03 -1.69684125e+00 -2.26058833e+00\n",
      " -8.78200067e-01 -2.47800246e-01  1.74605642e+00  8.46451699e-01\n",
      "  5.33578731e-01  1.13618853e+00  1.19746571e+00  1.75106572e+00\n",
      " -5.76229579e-01 -1.56865193e+00 -2.45794049e-01 -1.49984517e+00\n",
      "  1.52497515e+00 -1.16536303e+00 -7.10705984e-01 -2.64941121e+00\n",
      " -4.62452247e-01  1.29007754e+00 -1.17383679e+00 -1.20845134e+00\n",
      "  1.20472992e+00  1.43989242e+00 -1.07218332e+00  8.72295433e-01\n",
      "  1.07282180e+00  1.68561872e+00  1.23060053e-01  7.95587131e-01\n",
      " -1.85265801e+00  4.20589117e-01  9.68312728e-01 -3.58145843e-01\n",
      "  1.07857223e+00  1.34239646e+00  2.68026938e+00 -1.26029821e+00\n",
      " -5.56922728e-01  4.52289337e-02  6.45999630e-02 -2.80740687e-01\n",
      " -2.77143016e-01  9.18150978e-01 -3.97081732e-01 -7.98959342e-01\n",
      " -1.73689742e+00 -1.36248813e+00  1.94368345e+00 -2.08795726e-01\n",
      "  2.44420349e-01  1.55993562e+00 -2.57813335e+00  4.16253428e-01\n",
      "  3.29095725e-01 -9.62612418e-01 -2.27722558e-01 -8.08601903e-01\n",
      " -8.98128396e-01 -4.47909393e-02  1.08126811e-01 -5.79037465e-01\n",
      "  3.32932047e+00  1.70753128e-01 -1.48786497e+00  1.80922803e-01\n",
      " -1.38991674e+00  4.98400910e-01  4.12293223e-01  7.42967566e-01]\n",
      "mean : 0.011878051972312459 , variance : 1.516214197228964  , standard dev : 1.2313464976313386\n"
     ]
    }
   ],
   "source": [
    "#6. Write a Python script to generate random numbers from a Gaussian (normal) distribution and compute\n",
    "#the mean, variance, and standard deviation of the samples.\n",
    "\n",
    "normal=np.random.normal(loc=0.0, scale=1.4,size=100)\n",
    "mean , variance = np.mean(normal),np.var(normal)\n",
    "stddev =np.std(normal)\n",
    "print(\"\\n Gaussian sample:\\n\",normal)\n",
    "print(f\"mean : {mean} , variance : {variance}  , standard dev : {stddev}\")\n"
   ]
  },
  {
   "cell_type": "markdown",
   "id": "3e4713f2-5d89-47ee-8f8f-d0bb70e37cf9",
   "metadata": {},
   "source": [
    "7) Use seaborn library to load tips dataset. Find the following from the dataset for the columns total_bill\n",
    "and tip`:\n",
    "\n",
    "  \n",
    "\n",
    "  (i) Write a Python function that calculates their skewness.\n",
    "\n",
    "\n",
    "  (ii) Create a program that determines whether the columns exhibit positive skewness, negative skewness, or is\n",
    "approximately symmetric.\n",
    "\n",
    "\n",
    "  (iii) Write a function that calculates the covariance between two columns.\n",
    "\n",
    "\n",
    "  (iv) Implement a Python program that calculates the Pearson correlation coefficient between two columns.\n",
    "\n",
    "\n",
    "  (v) Write a script to visualize the correlation between two specific columns in a Pandas DataFrame using scatter plots."
   ]
  },
  {
   "cell_type": "code",
   "execution_count": 25,
   "id": "15318f1f-2d38-4e5b-ae37-aa78e0842271",
   "metadata": {},
   "outputs": [
    {
     "name": "stdout",
     "output_type": "stream",
     "text": [
      "Index(['total_bill', 'tip', 'sex', 'smoker', 'day', 'time', 'size'], dtype='object') \n",
      "\n"
     ]
    },
    {
     "data": {
      "text/html": [
       "<div>\n",
       "<style scoped>\n",
       "    .dataframe tbody tr th:only-of-type {\n",
       "        vertical-align: middle;\n",
       "    }\n",
       "\n",
       "    .dataframe tbody tr th {\n",
       "        vertical-align: top;\n",
       "    }\n",
       "\n",
       "    .dataframe thead th {\n",
       "        text-align: right;\n",
       "    }\n",
       "</style>\n",
       "<table border=\"1\" class=\"dataframe\">\n",
       "  <thead>\n",
       "    <tr style=\"text-align: right;\">\n",
       "      <th></th>\n",
       "      <th>total_bill</th>\n",
       "      <th>tip</th>\n",
       "      <th>sex</th>\n",
       "      <th>smoker</th>\n",
       "      <th>day</th>\n",
       "      <th>time</th>\n",
       "      <th>size</th>\n",
       "    </tr>\n",
       "  </thead>\n",
       "  <tbody>\n",
       "    <tr>\n",
       "      <th>0</th>\n",
       "      <td>16.99</td>\n",
       "      <td>1.01</td>\n",
       "      <td>Female</td>\n",
       "      <td>No</td>\n",
       "      <td>Sun</td>\n",
       "      <td>Dinner</td>\n",
       "      <td>2</td>\n",
       "    </tr>\n",
       "    <tr>\n",
       "      <th>1</th>\n",
       "      <td>10.34</td>\n",
       "      <td>1.66</td>\n",
       "      <td>Male</td>\n",
       "      <td>No</td>\n",
       "      <td>Sun</td>\n",
       "      <td>Dinner</td>\n",
       "      <td>3</td>\n",
       "    </tr>\n",
       "    <tr>\n",
       "      <th>2</th>\n",
       "      <td>21.01</td>\n",
       "      <td>3.50</td>\n",
       "      <td>Male</td>\n",
       "      <td>No</td>\n",
       "      <td>Sun</td>\n",
       "      <td>Dinner</td>\n",
       "      <td>3</td>\n",
       "    </tr>\n",
       "    <tr>\n",
       "      <th>3</th>\n",
       "      <td>23.68</td>\n",
       "      <td>3.31</td>\n",
       "      <td>Male</td>\n",
       "      <td>No</td>\n",
       "      <td>Sun</td>\n",
       "      <td>Dinner</td>\n",
       "      <td>2</td>\n",
       "    </tr>\n",
       "    <tr>\n",
       "      <th>4</th>\n",
       "      <td>24.59</td>\n",
       "      <td>3.61</td>\n",
       "      <td>Female</td>\n",
       "      <td>No</td>\n",
       "      <td>Sun</td>\n",
       "      <td>Dinner</td>\n",
       "      <td>4</td>\n",
       "    </tr>\n",
       "    <tr>\n",
       "      <th>...</th>\n",
       "      <td>...</td>\n",
       "      <td>...</td>\n",
       "      <td>...</td>\n",
       "      <td>...</td>\n",
       "      <td>...</td>\n",
       "      <td>...</td>\n",
       "      <td>...</td>\n",
       "    </tr>\n",
       "    <tr>\n",
       "      <th>239</th>\n",
       "      <td>29.03</td>\n",
       "      <td>5.92</td>\n",
       "      <td>Male</td>\n",
       "      <td>No</td>\n",
       "      <td>Sat</td>\n",
       "      <td>Dinner</td>\n",
       "      <td>3</td>\n",
       "    </tr>\n",
       "    <tr>\n",
       "      <th>240</th>\n",
       "      <td>27.18</td>\n",
       "      <td>2.00</td>\n",
       "      <td>Female</td>\n",
       "      <td>Yes</td>\n",
       "      <td>Sat</td>\n",
       "      <td>Dinner</td>\n",
       "      <td>2</td>\n",
       "    </tr>\n",
       "    <tr>\n",
       "      <th>241</th>\n",
       "      <td>22.67</td>\n",
       "      <td>2.00</td>\n",
       "      <td>Male</td>\n",
       "      <td>Yes</td>\n",
       "      <td>Sat</td>\n",
       "      <td>Dinner</td>\n",
       "      <td>2</td>\n",
       "    </tr>\n",
       "    <tr>\n",
       "      <th>242</th>\n",
       "      <td>17.82</td>\n",
       "      <td>1.75</td>\n",
       "      <td>Male</td>\n",
       "      <td>No</td>\n",
       "      <td>Sat</td>\n",
       "      <td>Dinner</td>\n",
       "      <td>2</td>\n",
       "    </tr>\n",
       "    <tr>\n",
       "      <th>243</th>\n",
       "      <td>18.78</td>\n",
       "      <td>3.00</td>\n",
       "      <td>Female</td>\n",
       "      <td>No</td>\n",
       "      <td>Thur</td>\n",
       "      <td>Dinner</td>\n",
       "      <td>2</td>\n",
       "    </tr>\n",
       "  </tbody>\n",
       "</table>\n",
       "<p>244 rows × 7 columns</p>\n",
       "</div>"
      ],
      "text/plain": [
       "     total_bill   tip     sex smoker   day    time  size\n",
       "0         16.99  1.01  Female     No   Sun  Dinner     2\n",
       "1         10.34  1.66    Male     No   Sun  Dinner     3\n",
       "2         21.01  3.50    Male     No   Sun  Dinner     3\n",
       "3         23.68  3.31    Male     No   Sun  Dinner     2\n",
       "4         24.59  3.61  Female     No   Sun  Dinner     4\n",
       "..          ...   ...     ...    ...   ...     ...   ...\n",
       "239       29.03  5.92    Male     No   Sat  Dinner     3\n",
       "240       27.18  2.00  Female    Yes   Sat  Dinner     2\n",
       "241       22.67  2.00    Male    Yes   Sat  Dinner     2\n",
       "242       17.82  1.75    Male     No   Sat  Dinner     2\n",
       "243       18.78  3.00  Female     No  Thur  Dinner     2\n",
       "\n",
       "[244 rows x 7 columns]"
      ]
     },
     "execution_count": 25,
     "metadata": {},
     "output_type": "execute_result"
    }
   ],
   "source": [
    "import seaborn as sns\n",
    "tips=sns.load_dataset(\"tips\")\n",
    "print(tips.columns, \"\\n\")\n",
    "tips"
   ]
  },
  {
   "cell_type": "code",
   "execution_count": 26,
   "id": "8ee24a60-7d78-4f07-9abc-4d11606cae88",
   "metadata": {},
   "outputs": [
    {
     "name": "stdout",
     "output_type": "stream",
     "text": [
      "skewness of total_bill:1.1262346334818638\n",
      "skewness of tip:1.4564266884221506\n",
      " \n",
      " Total_bill columns : positive skewness\n",
      " tip column: positive skewness \n",
      " \n",
      " Correlation: 0.6757341092113641, Covariance: 8.323501629224854\n",
      " \n",
      " Correlation: 0.6757341092113645\n"
     ]
    },
    {
     "data": {
      "image/png": "[encoded data removed]",
      "text/plain": [
       "<Figure size 1600x600 with 3 Axes>"
      ]
     },
     "metadata": {},
     "output_type": "display_data"
    }
   ],
   "source": [
    "#(i) Write a Python function that calculates their skewness.\n",
    "from scipy.stats import skew,pearsonr\n",
    "def calculate_skewness(column):\n",
    "    return skew(tips[column])\n",
    "\n",
    "skew_total_bill= calculate_skewness('total_bill')\n",
    "skew_tip= calculate_skewness('tip')\n",
    "print(f\"skewness of total_bill:{skew_total_bill}\")\n",
    "print(f\"skewness of tip:{skew_tip}\")\n",
    "\n",
    "#(ii) Create a program that determines whether the columns exhibit positive skewness, negative skewness, or is\n",
    "#approximately symmetric.\n",
    "\n",
    "def skewnes_type(column):\n",
    "    skewness = calculate_skewness(column)\n",
    "    if skewness > 0:\n",
    "        return \"positive skewness\"\n",
    "    elif skewness < 0:\n",
    "        return \"negative skewness\"\n",
    "    else:\n",
    "        return \"approximately symmetric\"\n",
    "\n",
    "print(f\" \\n Total_bill columns : {skewnes_type('total_bill')}\")\n",
    "print(f\" tip column: {skewnes_type('tip')} \")\n",
    "\n",
    "#iii) Write a function that calculates the covariance between two columns.\n",
    "def calculate_corr_and_cov(col1, col2):\n",
    "    corr = np.corrcoef(tips[col1], tips[col2])[0, 1]\n",
    "    covariance = np.cov(tips[col1], tips[col2])[0, 1]\n",
    "    return corr, covariance\n",
    "corr, covariance = calculate_corr_and_cov('total_bill', 'tip')\n",
    "print(f\" \\n Correlation: {corr}, Covariance: {covariance}\")\n",
    "\n",
    "#Implement a Python program that calculates the Pearson correlation coefficient between two columns.\n",
    "def calculate_pearson_corr(col1, col2):\n",
    "    correlation ,_ =pearsonr(tips[col1], tips[col2])\n",
    "    return correlation\n",
    "\n",
    "pearsoncorr=calculate_pearson_corr('total_bill', 'tip')\n",
    "print(f\" \\n Correlation: {pearsoncorr}\")\n",
    "\n",
    "#(v) Write a script to visualize the correlation between two specific columns in a Pandas DataFrame using scatter plots.\n",
    "\n",
    "import seaborn as sns\n",
    "import numpy as np\n",
    "import pandas as pd\n",
    "import matplotlib.pyplot as plt\n",
    "\n",
    "# Load the tips dataset\n",
    "tips = sns.load_dataset('tips')\n",
    "\n",
    "def visualization_corr(col1, col2):\n",
    "    plt.figure(figsize=(16, 6))\n",
    "    \n",
    "    # Scatter plot\n",
    "    plt.subplot(1, 2, 1)\n",
    "    plt.scatter(tips[col1], tips[col2], linewidths=2,)\n",
    "    plt.title(f\"Scatter plot of {col1} and {col2}\")\n",
    "    plt.xlabel(col1)\n",
    "    plt.ylabel(col2)\n",
    "    \n",
    "    # Heatmap of the correlation\n",
    "    plt.subplot(1, 2, 2)\n",
    "    pearsoncorr = tips[[col1, col2]].corr()\n",
    "    sns.heatmap(pearsoncorr, annot=True, cmap='coolwarm', vmin=-1, vmax=1)\n",
    "    plt.title(f\"Heatmap of correlation between {col1} and {col2}\")\n",
    "    \n",
    "    plt.tight_layout()\n",
    "    plt.show()\n",
    "\n",
    "visualization_corr('total_bill', 'tip')\n"
   ]
  },
  {
   "cell_type": "markdown",
   "id": "d2380285-614b-48e6-858f-7ee5d29c31d6",
   "metadata": {},
   "source": [
    "8.Write a Python function to calculate the probability density function (PDF) of a continuous random\n",
    "variable for a given normal distribution.\n",
    "9.Create a program to calculate the cumulative distribution function (CDF) of exponential distribution.\n",
    "10. Write a Python function to calculate the probability mass Function (PMF) of Poisson distribution."
   ]
  },
  {
   "cell_type": "code",
   "execution_count": 27,
   "id": "469d5bf5-ddad-4b63-a7d0-59c603996867",
   "metadata": {},
   "outputs": [
    {
     "data": {
      "image/png": "[encoded data removed]",
      "text/plain": [
       "<Figure size 800x600 with 1 Axes>"
      ]
     },
     "metadata": {},
     "output_type": "display_data"
    }
   ],
   "source": [
    "#8.Write a Python function to calculate the probability density function (PDF) of a continuous random\n",
    "#variable for a given normal distribution.\n",
    "from scipy.stats import norm\n",
    "\n",
    "def prob_density_fun(x,mean,std):\n",
    "    pdf_value =norm.pdf(x,loc=mean,scale=std)\n",
    "    return pdf_value\n",
    "\n",
    "mean=0.5\n",
    "std=1\n",
    "x_value=np.linspace(-20,50,100)\n",
    "pdf_values=prob_density_fun(x_value,mean=mean,std=std)\n",
    "plt.figure(figsize=(8, 6))\n",
    "plt.plot(x_value, pdf_values,label=f'N({mean}, {std}^2)')\n",
    "plt.title('Normal Distribution PDF')\n",
    "plt.xlabel('x')\n",
    "plt.ylabel('PDF')\n",
    "plt.legend()\n",
    "plt.grid(True)\n",
    "plt.show()\n"
   ]
  },
  {
   "cell_type": "code",
   "execution_count": 28,
   "id": "69ab5fa8-f0e3-43ab-a9df-e9488687772b",
   "metadata": {},
   "outputs": [
    {
     "data": {
      "image/png": "[encoded data removed]",
      "text/plain": [
       "<Figure size 800x600 with 1 Axes>"
      ]
     },
     "metadata": {},
     "output_type": "display_data"
    }
   ],
   "source": [
    "#Create a program to calculate the cumulative distribution function (CDF) of exponential distribution.\n",
    "from scipy.stats import expon\n",
    "def cum_df(x,rate):\n",
    "    cum_dfun=expon.cdf(x,scale=1/rate)\n",
    "    return  cum_dfun\n",
    "\n",
    "\n",
    "rate=0.5\n",
    "x_value=np.linspace(0, 20, 100)\n",
    "cdf_values=cum_df(x=x_value,rate=rate)\n",
    "\n",
    "plt.figure(figsize=(8, 6))\n",
    "plt.plot(x_value, cdf_values,label=f'lambda {rate}')\n",
    "plt.title('EXPONENTIAL Distribution PDF')\n",
    "plt.xlabel('x')\n",
    "plt.ylabel('CDF')\n",
    "plt.legend()\n",
    "plt.show()"
   ]
  },
  {
   "cell_type": "code",
   "execution_count": 29,
   "id": "1cbcbe86-ba27-4686-8150-c0783d1873d2",
   "metadata": {},
   "outputs": [
    {
     "data": {
      "image/png": "[encoded data removed]",
      "text/plain": [
       "<Figure size 800x600 with 1 Axes>"
      ]
     },
     "metadata": {},
     "output_type": "display_data"
    }
   ],
   "source": [
    "#10. Write a Python function to calculate the probability mass Function (PMF) of Poisson distribution.\n",
    "from scipy.stats import poisson\n",
    "def pmf_poisson(size):\n",
    "    x=np.arange(size)\n",
    "    pmf_val=poisson.pmf(x,lam)\n",
    "    return x,pmf_val\n",
    "\n",
    "lam =5\n",
    "size=100\n",
    "x, pmf_values= pmf_poisson(size)\n",
    "plt.figure(figsize=(8, 6))\n",
    "plt.plot(x, pmf_values,label=f'lambda{lam}')\n",
    "plt.title('POISSON Distribution PDF')\n",
    "plt.xlabel('x')\n",
    "plt.ylabel('PMF')\n",
    "plt.legend()\n",
    "plt.show()"
   ]
  },
  {
   "cell_type": "markdown",
   "id": "bed8ef9f-6e83-404d-8df9-8add3ed72c31",
   "metadata": {},
   "source": [
    "11. A company wants to test iF a new website layout leads to a higher conversion rate (percentage oF visitors\n",
    "who make a purchase). They collect data From the old and new layouts to compare.\n",
    "\n",
    "\n",
    "To generate the data use the following comma<d:\n",
    "\n",
    "```python\n",
    "\n",
    "import numpy as np\n",
    "\n",
    "# 50 purchases out of 1000 visitors\n",
    "\n",
    "old_layout = np.array([1] * 50 + [0] * 950)\n",
    "\n",
    "# 70 purchases out of 1000 visitors  \n",
    "\n",
    "new_layout = np.array([1] * 70 + [0] * 930)\n",
    "\n",
    "  ```\n",
    "\n",
    "Apply z-test to find which layout is successful."
   ]
  },
  {
   "cell_type": "code",
   "execution_count": 30,
   "id": "36b33207-4a60-4fdb-8ef6-98504c652162",
   "metadata": {},
   "outputs": [
    {
     "name": "stdout",
     "output_type": "stream",
     "text": [
      "mean_old_layout:0.05 , len_old_layput:1000\n",
      "mean_old_layout:0.07 , len_old_layput:1000\n",
      "mean: 0.06 \n",
      "z score: 1.883108942886774\n",
      "p value: 0.9701571972337869\n",
      "Fail to reject the null hypothesis: There is no significant difference in conversion rates.\n"
     ]
    }
   ],
   "source": [
    "#z test \n",
    "from statsmodels.stats.weightstats import ztest\n",
    "from scipy.stats import norm\n",
    "#data\n",
    "old_layout = np.array([1] * 50 + [0] * 950)\n",
    "new_layout = np.array([1] * 70 + [0] * 930)\n",
    "\n",
    "#mean,length of visitors\n",
    "m1, n1=np.mean(old_layout),len(old_layout)\n",
    "m2,n2=np.mean(new_layout),len(new_layout)\n",
    "print(f\"mean_old_layout:{m1} , len_old_layput:{n1}\")\n",
    "print(f\"mean_old_layout:{m2} , len_old_layput:{n2}\")\n",
    "\n",
    "mean= (np.sum(old_layout) + np.sum(new_layout)) / (n1 + n2)\n",
    "print(f\"mean: {mean} \")\n",
    "\n",
    "#calculate the standard error\n",
    "se=np.sqrt(mean*(1-mean)*(1/n1 +1/n2))\n",
    "\n",
    "#z score\n",
    "z =(m2-m1)/se\n",
    "\n",
    "#p value\n",
    "\n",
    "p_value =norm.cdf(z)\n",
    "\n",
    "print( f\"z score: {z}\")\n",
    "print( f\"p value: {p_value}\")\n",
    "\n",
    "alpha = 0.05\n",
    "if p_value < alpha:\n",
    "    print(\"Reject the null hypothesis: The new layout leads to a significantly higher conversion rate.\")\n",
    "else:\n",
    "    print(\"Fail to reject the null hypothesis: There is no significant difference in conversion rates.\")"
   ]
  },
  {
   "cell_type": "code",
   "execution_count": 31,
   "id": "0ef784fa-7f85-4f2c-b8cf-df5e55534063",
   "metadata": {},
   "outputs": [
    {
     "name": "stdout",
     "output_type": "stream",
     "text": [
      "zscore:-1.883837962960912\n",
      "p_value :0.9702065516212741\n",
      "Fail to reject the null hypothesis\n"
     ]
    }
   ],
   "source": [
    "\n",
    "from statsmodels.stats.weightstats import ztest\n",
    "zscore,pvalue = ztest(x1=old_layout,x2=new_layout ,value=0, alternative=\"larger\")\n",
    "print(f\"zscore:{zscore}\")\n",
    "print(f\"p_value :{pvalue}\")\n",
    "\n",
    "alpha= 0.05\n",
    "if p_value < alpha:\n",
    "    print(\"Reject the null hypothesis \")\n",
    "else:\n",
    "    print(\"Fail to reject the null hypothesis\")"
   ]
  },
  {
   "cell_type": "markdown",
   "id": "13997b87-45ca-4d6c-b1b8-33743369b1ea",
   "metadata": {},
   "source": [
    "12. A tutoring service claims that its program improves students' exam scores. A sample of students who\n",
    "participated in the program was taken, and their scores before and after the program were recorded.\n",
    "\n",
    "\n",
    "Use the below code to generate samples of respective arrays of marks:\n",
    "\n",
    "```python\n",
    "\n",
    "before_program = np.array([75, 80, 85, 70, 90, 78, 92, 88, 82, 87])\n",
    "\n",
    "after_program = np.array([80, 85, 90, 80, 92, 80, 95, 90, 85, 88])\n",
    "\n",
    "```\n",
    "\n",
    "Use z-test to find if the claims made by tutor are true or false."
   ]
  },
  {
   "cell_type": "code",
   "execution_count": 32,
   "id": "33df474a-3f7e-4c4c-8c36-2d0f04ef79ea",
   "metadata": {},
   "outputs": [
    {
     "name": "stdout",
     "output_type": "stream",
     "text": [
      "82.7 86.5\n",
      "10 10\n",
      "Mean difference: 3.8000\n",
      "Standard deviation of differences: 2.4819\n",
      "Standard error: 0.7849\n",
      "z-score: 4.8416\n",
      "p-value: 1.0000\n",
      "Fail to reject the null hypothesis: There is no significant improvement in the students' exam scores.\n"
     ]
    }
   ],
   "source": [
    "#data\n",
    "\n",
    "before_program = np.array([75, 80, 85, 70, 90, 78, 92, 88, 82, 87])\n",
    "after_program = np.array([80, 85, 90, 80, 92, 80, 95, 90, 85, 88])\n",
    "\n",
    "m1,l1=np.mean(before_program),len(before_program)\n",
    "m2,l2=np.mean(after_program),len(after_program)\n",
    "print(m1,m2)\n",
    "print(l1,l2)\n",
    "\n",
    "differ=after_program - before_program\n",
    "mean_diff = np.mean(differ)\n",
    "std_diff = np.std(differ)\n",
    "n=len(differ)\n",
    "#error\n",
    "se =std_diff/np.sqrt(n)\n",
    "#z score\n",
    "z=mean_diff /se\n",
    "\n",
    "pvalue=norm.cdf(z)\n",
    "\n",
    "print(f\"Mean difference: {mean_diff:.4f}\")\n",
    "print(f\"Standard deviation of differences: {std_diff:.4f}\")\n",
    "print(f\"Standard error: {se:.4f}\")\n",
    "print(f\"z-score: {z:.4f}\")\n",
    "print(f\"p-value: {pvalue:.4f}\")\n",
    "\n",
    "# Determine if we reject the null hypothesis\n",
    "alpha = 0.05\n",
    "if p_value < alpha:\n",
    "    print(\"Reject the null hypothesis: The tutoring program significantly improved the students' exam scores.\")\n",
    "else:\n",
    "    print(\"Fail to reject the null hypothesis: There is no significant improvement in the students' exam scores.\")"
   ]
  },
  {
   "cell_type": "code",
   "execution_count": 33,
   "id": "5becef6a-67fb-4b47-9f74-0aa83c0359cc",
   "metadata": {},
   "outputs": [
    {
     "name": "stdout",
     "output_type": "stream",
     "text": [
      "zscore:4.593190894944668\n",
      "p_value :2.182597052671683e-06\n",
      "Fail to reject the null hypothesis: There is no significant improvement in the students' exam scores.\n"
     ]
    }
   ],
   "source": [
    "from statsmodels.stats.weightstats import ztest\n",
    "zscore,pvalue = ztest(differ, value=0, alternative=\"larger\")\n",
    "print(f\"zscore:{zscore}\")\n",
    "print(f\"p_value :{pvalue}\")\n",
    "\n",
    "alpha = 0.05\n",
    "if p_value < alpha:\n",
    "    print(\"Reject the null hypothesis: The tutoring program significantly improved the students' exam scores.\")\n",
    "else:\n",
    "    print(\"Fail to reject the null hypothesis: There is no significant improvement in the students' exam scores.\")"
   ]
  },
  {
   "cell_type": "markdown",
   "id": "023b39b6-2bb2-4637-9b02-7d5a61653540",
   "metadata": {},
   "source": [
    "13.A pharmaceutical company wants to determine if a new drug is effective in reducing blood pressure. They\n",
    "conduct a study and record blood pressure measurements before and after administering the drug.\n",
    "\n",
    "\n",
    "Use the below code to generate samples of respective arrays of blood pressure:\n",
    "\n",
    "\n",
    "```python\n",
    "\n",
    "before_drug = np.array([145, 150, 140, 135, 155, 160, 152, 148, 130, 138])\n",
    "\n",
    "after_drug = np.array([130, 140, 132, 128, 145, 148, 138, 136, 125, 130])\n",
    "\n",
    "  ```\n",
    "\n",
    "\n",
    "Implement z-test to find if the drug really works or not."
   ]
  },
  {
   "cell_type": "code",
   "execution_count": null,
   "id": "296978e0-f97b-4904-9297-a74fca2921bc",
   "metadata": {},
   "outputs": [],
   "source": [
    "#data\n",
    "\n",
    "from statsmodels.stats.weightstats import ztest\n",
    "before_drug = np.array([145, 150, 140, 135, 155, 160, 152, 148, 130, 138])\n",
    "after_drug = np.array([130, 140, 132, 128, 145, 148, 138, 136, 125, 130])\n",
    "\n",
    "#differ\n",
    "differ =after_drug  - before_drug\n",
    "\n",
    "#mean and std\n",
    "mean,std ,n =np.mean(differ),np.std(differ,ddof =1),len(differ)\n",
    "\n",
    "print(f\"differ:{differ}\")\n",
    "print(f\"Mean difference: {mean:.4f}\")\n",
    "print(f\"Standard deviation of differences: {std:.4f}\")\n",
    "\n",
    "# Perform the z-test on the differences\n",
    "zscore, pvalue = ztest(differ, value=0, alternative='smaller')\n",
    "print(f\"z-score: {z:.4f}\")\n",
    "print(f\"p-value: {pvalue:.4f}\")\n",
    "\n",
    "# Determine if we reject the null hypothesis\n",
    "alpha = 0.05\n",
    "if p_value < alpha:\n",
    "    print(\"Reject the null hypothesis \")\n",
    "else:\n",
    "    print(\"Fail to reject the null hypothesis\")\n",
    "\n",
    "zcritical=norm.ppf(1-alpha)\n",
    "print(\"zcritical :\",zcritical)\n",
    "\n",
    "if zscore > zcritical:\n",
    "    print(\"Reject the h0\")\n",
    "else:\n",
    "    print(\"fail to reject the null h0\")"
   ]
  },
  {
   "cell_type": "code",
   "execution_count": null,
   "id": "330223d1-6af5-4714-a97d-471b90f3f494",
   "metadata": {},
   "outputs": [],
   "source": [
    "from statsmodels.stats.weightstats import ztest\n",
    "zscore,pvalue = ztest(differ, value=0, alternative=\"smaller\")"
   ]
  },
  {
   "cell_type": "code",
   "execution_count": null,
   "id": "9a92b6af-6ce1-40db-8dd6-f46ccdca8518",
   "metadata": {},
   "outputs": [],
   "source": [
    "zscore,pvalue"
   ]
  },
  {
   "cell_type": "code",
   "execution_count": null,
   "id": "184cccd1-3097-4c95-aea9-973f618d7a8d",
   "metadata": {},
   "outputs": [],
   "source": [
    "alpha = 0.05\n",
    "if p_value < alpha:\n",
    "    print(\"Reject the null hypothesis \")\n",
    "else:\n",
    "    print(\"Fail to reject the null hypothesis\")"
   ]
  },
  {
   "cell_type": "code",
   "execution_count": null,
   "id": "2111af32-2fa4-4c9e-b9f5-d6597d9e4098",
   "metadata": {},
   "outputs": [],
   "source": [
    "14. A customer service department claims that their average response time is less than 5 minutes. A sample\n",
    "of recent customer interactions was taken, and the response times were recorded.\n",
    "\n",
    "\n",
    "Implement the below code to generate the array of response time:\n",
    "\n",
    "```python\n",
    "\n",
    "response_times = np.array([4.3, 3.8, 5.1, 4.9, 4.7, 4.2, 5.2, 4.5, 4.6, 4.4])\n",
    "\n",
    "```\n",
    "\n",
    "Implement z-test to find the claims made by customer service department are true or false"
   ]
  },
  {
   "cell_type": "code",
   "execution_count": null,
   "id": "8e175540-13b0-4b88-8643-925f9547a1cf",
   "metadata": {},
   "outputs": [],
   "source": [
    "import numpy as np\n",
    "from statsmodels.stats.weightstats import ztest\n",
    "import scipy.stats as stats\n",
    "# Data\n",
    "response_times = np.array([4.3, 3.8, 5.1, 4.9, 4.7, 4.2, 5.2, 4.5, 4.6, 4.4])\n",
    "\n",
    "# Calculate the mean and standard deviation\n",
    "mean = np.mean(response_times)\n",
    "std = np.std(response_times, ddof=1)  # Sample standard deviation\n",
    "n = len(response_times)\n",
    "\n",
    "print(f\"Mean response time: {mean:.4f}\")\n",
    "print(f\"Standard deviation of response times: {std:.4f}\")\n",
    "\n",
    "# Perform one-sample z-test\n",
    "null_mean = 5  # Hypothesized mean\n",
    "zscore, pvalue = ztest(response_times, value=null_mean, alternative=\"smaller\")\n",
    "\n",
    "print(f\"z-score: {zscore:.4f}\")\n",
    "print(f\"p-value: {pvalue:.4f}\")\n",
    "\n",
    "# Determine if we reject the null hypothesis\n",
    "alpha = 0.05\n",
    "if pvalue <= alpha:\n",
    "    print(\"Reject the null hypothesis: The average response time is significantly less than 5 minutes.\")\n",
    "else:\n",
    "    print(\"Fail to reject the null hypothesis: There is not enough evidence to say the average response time is less than 5 minutes.\")\n"
   ]
  },
  {
   "cell_type": "code",
   "execution_count": null,
   "id": "76864739-2253-49c1-8c6b-808f443d2cd0",
   "metadata": {},
   "outputs": [],
   "source": [
    "15.A company is testing two different website layouts to see which one leads to higher click-through rates.\n",
    "Write a Python function to perform an A/B test analysis, including calculating the t-statistic, degrees of\n",
    "freedom, and p-value.\n",
    "\n",
    "\n",
    "Use the following data:\n",
    "\n",
    "```python\n",
    "\n",
    "layout_a_clicks = [28, 32, 33, 29, 31, 34, 30, 35, 36, 37]\n",
    "\n",
    "layout_b_clicks = [40, 41, 38, 42, 39, 44, 43, 41, 45, 47]\n"
   ]
  },
  {
   "cell_type": "code",
   "execution_count": null,
   "id": "a9dbd23f-1257-46f7-8280-4256f38c8306",
   "metadata": {},
   "outputs": [],
   "source": [
    "#data\n",
    "import scipy.stats as stats\n",
    "import numpy as np\n",
    "layout_a_clicks = [28, 32, 33, 29, 31, 34, 30, 35, 36, 37]\n",
    "\n",
    "layout_b_clicks = [40, 41, 38, 42, 39, 44, 43, 41, 45, 47]\n",
    "\n",
    "np.mean(layout_a_clicks),np.mean(layout_b_clicks)\n",
    "stats.ttest_ind(layout_a_clicks,layout_b_clicks)"
   ]
  },
  {
   "cell_type": "markdown",
   "id": "0638a0c1-e53a-45bb-b098-f6602c2d3aa6",
   "metadata": {},
   "source": [
    "16. A pharmaceutical company wants to determine if a new drug is more effective than an existing drug in reducing cholesterol levels. Create a program to analyze the clinical trial data and calculate the tstatistic and p-value for the treatment effect.\n",
    "\n",
    "\n",
    "Use the followi3g data of cholestrol level:\n",
    "\n",
    "```python\n",
    "\n",
    "existing_drug_levels = [180, 182, 175, 185, 178, 176, 172, 184, 179, 183]\n",
    "\n",
    "new_drug_levels = [170, 172, 165, 168, 175, 173, 170, 178, 172, 176]"
   ]
  },
  {
   "cell_type": "code",
   "execution_count": null,
   "id": "af6830bf-6db7-4c9b-a200-f58c35b8bcfb",
   "metadata": {},
   "outputs": [],
   "source": [
    "#data\n",
    "import scipy.stats as stats\n",
    "existing_drug_levels = [180, 182, 175, 185, 178, 176, 172, 184, 179, 183]\n",
    "\n",
    "new_drug_levels = [170, 172, 165, 168, 175, 173, 170, 178, 172, 176]\n",
    "\n",
    "np.mean(existing_drug_levels),np.mean(new_drug_levels)\n",
    "stats.ttest_ind(existing_drug_levels,new_drug_levels)\n",
    "\n",
    "alpha=0.05\n",
    "if pvalue < alpha:\n",
    "    print(\"reject the null hypothesis\")\n",
    "else:\n",
    "    print(\"fail to reject the null hypothesis\")"
   ]
  },
  {
   "cell_type": "code",
   "execution_count": null,
   "id": "4551b710-bed3-4701-94d7-d094838fa38d",
   "metadata": {},
   "outputs": [],
   "source": [
    "def analyze_trial(existing_drug_levels ,new_drug_levels ):\n",
    "    existing_mean=np.mean(existing_drug_levels)\n",
    "    new_mean=np.mean(new_drug_levels)\n",
    "\n",
    "    #calculate t test ,t ststistic ,pvalue\n",
    "    t_stat,p_value = stats.ttest_ind(existing_drug_levels,new_drug_levels)\n",
    "    alpha=0.05\n",
    "    if p_value < alpha:\n",
    "        result= \"reject the null hypothesis\"\n",
    "    else:\n",
    "        result= \"fail to reject the null hypothesis\"\n",
    "    return t_stat, p_value, result\n",
    "\n",
    "existing_drug_levels = [180, 182, 175, 185, 178, 176, 172, 184, 179, 183]\n",
    "new_drug_levels = [170, 172, 165, 168, 175, 173, 170, 178, 172, 176]\n",
    "\n",
    "# Perform the analysis\n",
    "t_stat, p_value, result = analyze_trial(existing_drug_levels, new_drug_levels)\n",
    "\n",
    "# Print results\n",
    "print(f\"T-statistic: {t_stat}\")\n",
    "print(f\"P-value: {p_value}\")\n",
    "print(f\"Result: {result}\")"
   ]
  },
  {
   "cell_type": "code",
   "execution_count": null,
   "id": "93ea277a-1f9e-44f9-921d-e93b367147a2",
   "metadata": {},
   "outputs": [],
   "source": [
    "17.A school district introduces an educational intervention program to improve math scores. Write a Python\n",
    "function to analyze pre- and post-intervention test scores, calculating the t-statistic and p-value to\n",
    "determine if the intervention had a significant impact.\n",
    "\n",
    "\n",
    "Use the following data of test score:\n",
    "\n",
    "\n",
    "  ```python\n",
    "\n",
    "  pre_intervention_scores = [80, 85, 90, 75, 88, 82, 92, 78, 85, 87]\n",
    "\n",
    "  post_intervention_scores = [90, 92, 88, 92, 95, 91, 96, 93, 89, 93]"
   ]
  },
  {
   "cell_type": "code",
   "execution_count": null,
   "id": "5e84e505-583e-4e54-8364-113d054dd09b",
   "metadata": {},
   "outputs": [],
   "source": [
    "pre_intervention_scores = [80, 85, 90, 75, 88, 82, 92, 78, 85, 87]\n",
    "\n",
    "post_intervention_scores = [90, 92, 88, 92, 95, 91, 96, 93, 89, 93]\n",
    "np.mean(pre_intervention_scores),np.mean(post_intervention_scores)\n",
    "stats.ttest_ind(pre_intervention_scores,post_intervention_scores)\n",
    "\n",
    "print(f\"T-statistic: {t_stat}\")\n",
    "print(f\"P-value: {p_value}\")\n",
    "alpha=0.05\n",
    "if pvalue < alpha:\n",
    "    print(\"reject the null hypothesis\")\n",
    "else:\n",
    "    print(\"fail to reject the null hypothesis\")\n",
    "    "
   ]
  },
  {
   "cell_type": "raw",
   "id": "878a24b8-c4c0-4716-81d0-9d36779f6cf7",
   "metadata": {},
   "source": [
    "19. An HR department wants to investigate if there's a gender-based salary gap within the company. Develop\n",
    "a program to analyze salary data, calculate the t-statistic, and determine if there's a statistically\n",
    "significant difference between the average salaries of male and female employees.\n",
    "\n",
    "\n",
    "Use the below code to generate synthetic dataY\n",
    "```python\n",
    "\n",
    "# Generate synthetic salary data for male and female employees\n",
    "\n",
    "np.random.seed(0)  # For reproducibility\n",
    "\n",
    "male_salaries = np.random.normal(loc=50000, scale=10000, size=20)\n",
    "\n",
    "female_salaries = np.random.normal(loc=55000, scale=9000, size=20)\n",
    "```"
   ]
  },
  {
   "cell_type": "code",
   "execution_count": 39,
   "id": "de3f0d06-5880-4098-a53c-df124a1ac0e7",
   "metadata": {},
   "outputs": [
    {
     "name": "stdout",
     "output_type": "stream",
     "text": [
      "T-statistic: 0.06114208969631383\n",
      "P-value: 0.9515665020676465\n",
      "reject the null hypothesis\n"
     ]
    }
   ],
   "source": [
    "#data\n",
    "import scipy.stats as stats\n",
    "np.random.seed(0)  # For reproducibility\n",
    "\n",
    "male_salaries = np.random.normal(loc=50000, scale=10000, size=20)\n",
    "\n",
    "female_salaries = np.random.normal(loc=55000, scale=9000, size=20)\n",
    "\n",
    "m1,m2=np.mean(male_salaries),np.mean(female_salaries)\n",
    "\n",
    "t_stat,p_value = stats.ttest_ind(male_salaries,female_salaries)\n",
    "\n",
    "print(f\"T-statistic: {t_stat}\")\n",
    "print(f\"P-value: {p_value}\")\n",
    "alpha=0.05\n",
    "if pvalue <= alpha:\n",
    "    print(\"reject the null hypothesis,There is a significant difference in the average salaries of male and female employees.\")\n",
    "else:\n",
    "    print(\"fail to reject the null hypothesis,There is no significant difference in the average salaries of male and female employees.\")\n",
    "    \n"
   ]
  },
  {
   "cell_type": "code",
   "execution_count": null,
   "id": "96129c28-274e-45ec-ba09-ae87ffe057f6",
   "metadata": {},
   "outputs": [],
   "source": [
    "19) A manufacturer produces two different versions of a product and wants to compare their quality scores.\n",
    "Create a Python function to analyze quality assessment data, calculate the t-statistic, and decide\n",
    "whether there's a significant difference in quality between the two versions.\n",
    "\n",
    "\n",
    "Use the following data:\n",
    "```python\n",
    "\n",
    "version1_scores = [85, 88, 82, 89, 87, 84, 90, 88, 85, 86, 91, 83, 87, 84, 89, 86, 84, 88, 85, 86, 89, 90, 87, 88, 85]\n",
    "\n",
    "version2_scores = [80, 78, 83, 81, 79, 82, 76, 80, 78, 81, 77, 82, 80, 79, 82, 79, 80, 81, 79, 82, 79, 78, 80, 81, 82]\n",
    "\n",
    "```"
   ]
  },
  {
   "cell_type": "code",
   "execution_count": 40,
   "id": "fd463b05-8aca-4813-b73f-582532afcc9b",
   "metadata": {},
   "outputs": [
    {
     "name": "stdout",
     "output_type": "stream",
     "text": [
      "T-statistic: 11.325830417646698\n",
      "P-value: 3.6824250702873965e-15\n",
      "reject the null hypothesis\n"
     ]
    }
   ],
   "source": [
    "def copmare_product_quality(version1_scores,version2_scores):\n",
    "    t_stat,p_value = stats.ttest_ind(version1_scores,version2_scores)\n",
    "    print(f\"T-statistic: {t_stat}\")\n",
    "    print(f\"P-value: {p_value}\")\n",
    "    alpha=0.05\n",
    "    if pvalue <= alpha:\n",
    "        print(\"reject the null hypothesis,There is a significant difference in quality between the two versions.\")\n",
    "    else:\n",
    "        print(\"fail to reject the null hypothesis,There is no  significant difference in quality between the two versions.\")\n",
    "\n",
    "#data\n",
    "version1_scores = [85, 88, 82, 89, 87, 84, 90, 88, 85, 86, 91, 83, 87, 84, 89, 86, 84, 88, 85, 86, 89, 90, 87, 88, 85]\n",
    "\n",
    "version2_scores = [80, 78, 83, 81, 79, 82, 76, 80, 78, 81, 77, 82, 80, 79, 82, 79, 80, 81, 79, 82, 79, 78, 80, 81, 82]\n",
    "\n",
    "copmare_product_quality(version1_scores,version2_scores)"
   ]
  },
  {
   "cell_type": "code",
   "execution_count": null,
   "id": "a2e68b94-755a-4447-9e6d-2d7cfcd5faed",
   "metadata": {},
   "outputs": [],
   "source": [
    " 20. A restaurant chain collects customer satisfaction scores for two different branches. Write a program to\n",
    "analyze the scores, calculate the t-statistic, and determine if there's a statistically significant difference in\n",
    "customer satisfaction between the branches.\n",
    "\n",
    "\n",
    "Use the below data of scores:\n",
    "\n",
    "  ```python\n",
    "\n",
    "branch_a_scores = [4, 5, 3, 4, 5, 4, 5, 3, 4, 4, 5, 4, 4, 3, 4, 5, 5, 4, 3, 4, 5, 4, 3, 5, 4, 4, 5, 3, 4, 5, 4]\n",
    "\n",
    "branch_b_scores = [3, 4, 2, 3, 4, 3, 4, 2, 3, 3, 4, 3, 3, 2, 3, 4, 4, 3, 2, 3, 4, 3, 2, 4, 3, 3, 4, 2, 3, 4, 3]"
   ]
  },
  {
   "cell_type": "code",
   "execution_count": 42,
   "id": "4f858a51-b258-4336-b335-8588a8c93d7b",
   "metadata": {},
   "outputs": [
    {
     "name": "stdout",
     "output_type": "stream",
     "text": [
      "T-statistic: 5.480077554195743\n",
      "P-value: 8.895290509945655e-07\n",
      "Reject the null hypothesis,There is a significant difference in customer satisfaction between the branches.\n"
     ]
    }
   ],
   "source": [
    "def customer_satisfaction_score(branch_a_scores,branch_b_scores ):\n",
    "    t_stat,p_value = stats.ttest_ind(branch_a_scores,branch_b_scores)\n",
    "    print(f\"T-statistic: {t_stat}\")\n",
    "    print(f\"P-value: {p_value}\")\n",
    "    alpha=0.05\n",
    "    if p_value <= alpha:\n",
    "        print(\"Reject the null hypothesis,There is a significant difference in customer satisfaction between the branches.\")\n",
    "    else:\n",
    "        print(\"Fail to reject the null hypothesis,There is no a significant difference in customer satisfaction between the branches.\")\\\n",
    "\n",
    "#data\n",
    "branch_a_scores = [4, 5, 3, 4, 5, 4, 5, 3, 4, 4, 5, 4, 4, 3, 4, 5, 5, 4, 3, 4, 5, 4, 3, 5, 4, 4, 5, 3, 4, 5, 4]\n",
    "\n",
    "branch_b_scores = [3, 4, 2, 3, 4, 3, 4, 2, 3, 3, 4, 3, 3, 2, 3, 4, 4, 3, 2, 3, 4, 3, 2, 4, 3, 3, 4, 2, 3, 4, 3]\n",
    "\n",
    "customer_satisfaction_score(branch_a_scores,branch_b_scores )"
   ]
  },
  {
   "cell_type": "code",
   "execution_count": null,
   "id": "67087c7e-7218-4e7a-b5d8-551f78af0b96",
   "metadata": {},
   "outputs": [],
   "source": [
    "21. A political analyst wants to determine if there is a significant association between age groups and voter\n",
    "preferences Candidate A or Candidate B). They collect data from a sample of 500 voters and classi@y\n",
    "them into different age groups and candidate preferences. Perform a Chi-Square test to determine i@\n",
    "there is a significant association between age groups and voter preferences.\n",
    "\n",
    "\n",
    "Use the below code to generate data:\n",
    "\n",
    "```python\n",
    "\n",
    "np.random.seed(0)\n",
    "\n",
    "age_groups = np.random.choice(['18-30', '31-50' , '51+', '51+'], size=30)\n",
    "\n",
    "voter_preferences = np.random.choice(['Candidate A', 'Candidate B'], size=30)\n"
   ]
  },
  {
   "cell_type": "code",
   "execution_count": 50,
   "id": "dbb80f0f-4de9-49e2-a8f7-1df5d3fd6119",
   "metadata": {},
   "outputs": [
    {
     "data": {
      "text/html": [
       "<div>\n",
       "<style scoped>\n",
       "    .dataframe tbody tr th:only-of-type {\n",
       "        vertical-align: middle;\n",
       "    }\n",
       "\n",
       "    .dataframe tbody tr th {\n",
       "        vertical-align: top;\n",
       "    }\n",
       "\n",
       "    .dataframe thead th {\n",
       "        text-align: right;\n",
       "    }\n",
       "</style>\n",
       "<table border=\"1\" class=\"dataframe\">\n",
       "  <thead>\n",
       "    <tr style=\"text-align: right;\">\n",
       "      <th></th>\n",
       "      <th>Age Group</th>\n",
       "      <th>Voter Preference</th>\n",
       "    </tr>\n",
       "  </thead>\n",
       "  <tbody>\n",
       "    <tr>\n",
       "      <th>0</th>\n",
       "      <td>31-50</td>\n",
       "      <td>Candidate A</td>\n",
       "    </tr>\n",
       "    <tr>\n",
       "      <th>1</th>\n",
       "      <td>31-50</td>\n",
       "      <td>Candidate A</td>\n",
       "    </tr>\n",
       "    <tr>\n",
       "      <th>2</th>\n",
       "      <td>18-30</td>\n",
       "      <td>Candidate B</td>\n",
       "    </tr>\n",
       "    <tr>\n",
       "      <th>3</th>\n",
       "      <td>51+</td>\n",
       "      <td>Candidate B</td>\n",
       "    </tr>\n",
       "    <tr>\n",
       "      <th>4</th>\n",
       "      <td>51+</td>\n",
       "      <td>Candidate B</td>\n",
       "    </tr>\n",
       "    <tr>\n",
       "      <th>5</th>\n",
       "      <td>18-30</td>\n",
       "      <td>Candidate A</td>\n",
       "    </tr>\n",
       "    <tr>\n",
       "      <th>6</th>\n",
       "      <td>31-50</td>\n",
       "      <td>Candidate B</td>\n",
       "    </tr>\n",
       "    <tr>\n",
       "      <th>7</th>\n",
       "      <td>31-50</td>\n",
       "      <td>Candidate A</td>\n",
       "    </tr>\n",
       "    <tr>\n",
       "      <th>8</th>\n",
       "      <td>18-30</td>\n",
       "      <td>Candidate A</td>\n",
       "    </tr>\n",
       "    <tr>\n",
       "      <th>9</th>\n",
       "      <td>51+</td>\n",
       "      <td>Candidate B</td>\n",
       "    </tr>\n",
       "    <tr>\n",
       "      <th>10</th>\n",
       "      <td>18-30</td>\n",
       "      <td>Candidate B</td>\n",
       "    </tr>\n",
       "    <tr>\n",
       "      <th>11</th>\n",
       "      <td>18-30</td>\n",
       "      <td>Candidate B</td>\n",
       "    </tr>\n",
       "    <tr>\n",
       "      <th>12</th>\n",
       "      <td>51+</td>\n",
       "      <td>Candidate A</td>\n",
       "    </tr>\n",
       "    <tr>\n",
       "      <th>13</th>\n",
       "      <td>51+</td>\n",
       "      <td>Candidate B</td>\n",
       "    </tr>\n",
       "    <tr>\n",
       "      <th>14</th>\n",
       "      <td>31-50</td>\n",
       "      <td>Candidate B</td>\n",
       "    </tr>\n",
       "    <tr>\n",
       "      <th>15</th>\n",
       "      <td>51+</td>\n",
       "      <td>Candidate A</td>\n",
       "    </tr>\n",
       "    <tr>\n",
       "      <th>16</th>\n",
       "      <td>31-50</td>\n",
       "      <td>Candidate B</td>\n",
       "    </tr>\n",
       "    <tr>\n",
       "      <th>17</th>\n",
       "      <td>51+</td>\n",
       "      <td>Candidate A</td>\n",
       "    </tr>\n",
       "    <tr>\n",
       "      <th>18</th>\n",
       "      <td>18-30</td>\n",
       "      <td>Candidate B</td>\n",
       "    </tr>\n",
       "    <tr>\n",
       "      <th>19</th>\n",
       "      <td>51+</td>\n",
       "      <td>Candidate B</td>\n",
       "    </tr>\n",
       "    <tr>\n",
       "      <th>20</th>\n",
       "      <td>18-30</td>\n",
       "      <td>Candidate A</td>\n",
       "    </tr>\n",
       "    <tr>\n",
       "      <th>21</th>\n",
       "      <td>31-50</td>\n",
       "      <td>Candidate A</td>\n",
       "    </tr>\n",
       "    <tr>\n",
       "      <th>22</th>\n",
       "      <td>31-50</td>\n",
       "      <td>Candidate B</td>\n",
       "    </tr>\n",
       "    <tr>\n",
       "      <th>23</th>\n",
       "      <td>31-50</td>\n",
       "      <td>Candidate B</td>\n",
       "    </tr>\n",
       "    <tr>\n",
       "      <th>24</th>\n",
       "      <td>18-30</td>\n",
       "      <td>Candidate A</td>\n",
       "    </tr>\n",
       "    <tr>\n",
       "      <th>25</th>\n",
       "      <td>51+</td>\n",
       "      <td>Candidate B</td>\n",
       "    </tr>\n",
       "    <tr>\n",
       "      <th>26</th>\n",
       "      <td>18-30</td>\n",
       "      <td>Candidate B</td>\n",
       "    </tr>\n",
       "    <tr>\n",
       "      <th>27</th>\n",
       "      <td>51+</td>\n",
       "      <td>Candidate B</td>\n",
       "    </tr>\n",
       "    <tr>\n",
       "      <th>28</th>\n",
       "      <td>18-30</td>\n",
       "      <td>Candidate B</td>\n",
       "    </tr>\n",
       "    <tr>\n",
       "      <th>29</th>\n",
       "      <td>18-30</td>\n",
       "      <td>Candidate B</td>\n",
       "    </tr>\n",
       "  </tbody>\n",
       "</table>\n",
       "</div>"
      ],
      "text/plain": [
       "   Age Group Voter Preference\n",
       "0      31-50      Candidate A\n",
       "1      31-50      Candidate A\n",
       "2      18-30      Candidate B\n",
       "3        51+      Candidate B\n",
       "4        51+      Candidate B\n",
       "5      18-30      Candidate A\n",
       "6      31-50      Candidate B\n",
       "7      31-50      Candidate A\n",
       "8      18-30      Candidate A\n",
       "9        51+      Candidate B\n",
       "10     18-30      Candidate B\n",
       "11     18-30      Candidate B\n",
       "12       51+      Candidate A\n",
       "13       51+      Candidate B\n",
       "14     31-50      Candidate B\n",
       "15       51+      Candidate A\n",
       "16     31-50      Candidate B\n",
       "17       51+      Candidate A\n",
       "18     18-30      Candidate B\n",
       "19       51+      Candidate B\n",
       "20     18-30      Candidate A\n",
       "21     31-50      Candidate A\n",
       "22     31-50      Candidate B\n",
       "23     31-50      Candidate B\n",
       "24     18-30      Candidate A\n",
       "25       51+      Candidate B\n",
       "26     18-30      Candidate B\n",
       "27       51+      Candidate B\n",
       "28     18-30      Candidate B\n",
       "29     18-30      Candidate B"
      ]
     },
     "execution_count": 50,
     "metadata": {},
     "output_type": "execute_result"
    }
   ],
   "source": [
    "age_groups = np.random.choice(['18-30', '31-50' , '51+', '51+'], size=30)\n",
    "\n",
    "voter_preferences = np.random.choice(['Candidate A', 'Candidate B'], size=30)\n",
    "\n",
    "dataframe = pd.DataFrame({'Age Group': age_groups, 'Voter Preference': voter_preferences})\n",
    "dataframe"
   ]
  },
  {
   "cell_type": "code",
   "execution_count": 53,
   "id": "e411b12b-beba-4ca1-95b7-a118288512ff",
   "metadata": {},
   "outputs": [
    {
     "data": {
      "text/html": [
       "<div>\n",
       "<style scoped>\n",
       "    .dataframe tbody tr th:only-of-type {\n",
       "        vertical-align: middle;\n",
       "    }\n",
       "\n",
       "    .dataframe tbody tr th {\n",
       "        vertical-align: top;\n",
       "    }\n",
       "\n",
       "    .dataframe thead th {\n",
       "        text-align: right;\n",
       "    }\n",
       "</style>\n",
       "<table border=\"1\" class=\"dataframe\">\n",
       "  <thead>\n",
       "    <tr style=\"text-align: right;\">\n",
       "      <th>Voter Preference</th>\n",
       "      <th>Candidate A</th>\n",
       "      <th>Candidate B</th>\n",
       "    </tr>\n",
       "    <tr>\n",
       "      <th>Age Group</th>\n",
       "      <th></th>\n",
       "      <th></th>\n",
       "    </tr>\n",
       "  </thead>\n",
       "  <tbody>\n",
       "    <tr>\n",
       "      <th>18-30</th>\n",
       "      <td>4</td>\n",
       "      <td>7</td>\n",
       "    </tr>\n",
       "    <tr>\n",
       "      <th>31-50</th>\n",
       "      <td>4</td>\n",
       "      <td>5</td>\n",
       "    </tr>\n",
       "    <tr>\n",
       "      <th>51+</th>\n",
       "      <td>3</td>\n",
       "      <td>7</td>\n",
       "    </tr>\n",
       "  </tbody>\n",
       "</table>\n",
       "</div>"
      ],
      "text/plain": [
       "Voter Preference  Candidate A  Candidate B\n",
       "Age Group                                 \n",
       "18-30                       4            7\n",
       "31-50                       4            5\n",
       "51+                         3            7"
      ]
     },
     "execution_count": 53,
     "metadata": {},
     "output_type": "execute_result"
    }
   ],
   "source": [
    "data_table =pd.crosstab(dataframe['Age Group'],dataframe['Voter Preference'])\n",
    "data_table"
   ]
  },
  {
   "cell_type": "code",
   "execution_count": 66,
   "id": "40774202-24db-4f47-8c67-215edecce142",
   "metadata": {},
   "outputs": [],
   "source": [
    "#1st approach>>allowing chi2 itself some expected values\n",
    "observed_values =data_table.values\n",
    "chi2, p, dof, expected_values = stats.chi2_contingency(observed_values)"
   ]
  },
  {
   "cell_type": "code",
   "execution_count": 67,
   "id": "94f0487e-93eb-42d3-8ef9-c683acddc937",
   "metadata": {},
   "outputs": [
    {
     "data": {
      "text/plain": [
       "array([[4.03333333, 6.96666667],\n",
       "       [3.3       , 5.7       ],\n",
       "       [3.66666667, 6.33333333]])"
      ]
     },
     "execution_count": 67,
     "metadata": {},
     "output_type": "execute_result"
    }
   ],
   "source": [
    " expected_values"
   ]
  },
  {
   "cell_type": "code",
   "execution_count": 68,
   "id": "e676511d-14b3-4c78-afbd-7f288a850697",
   "metadata": {},
   "outputs": [
    {
     "data": {
      "text/plain": [
       "array([[4, 7],\n",
       "       [4, 5],\n",
       "       [3, 7]], dtype=int64)"
      ]
     },
     "execution_count": 68,
     "metadata": {},
     "output_type": "execute_result"
    }
   ],
   "source": [
    "observed_values"
   ]
  },
  {
   "cell_type": "code",
   "execution_count": 69,
   "id": "d7813e2d-d062-4a9d-af36-c017c5ef2bbb",
   "metadata": {},
   "outputs": [
    {
     "data": {
      "text/plain": [
       "0.42627229230100055"
      ]
     },
     "execution_count": 69,
     "metadata": {},
     "output_type": "execute_result"
    }
   ],
   "source": [
    "chi2"
   ]
  },
  {
   "cell_type": "code",
   "execution_count": 70,
   "id": "dbf96dc0-04c5-48df-b7e0-9cd3fdb7db11",
   "metadata": {},
   "outputs": [
    {
     "data": {
      "text/plain": [
       "0.8080461173589633"
      ]
     },
     "execution_count": 70,
     "metadata": {},
     "output_type": "execute_result"
    }
   ],
   "source": [
    "p"
   ]
  },
  {
   "cell_type": "code",
   "execution_count": 71,
   "id": "23301501-faca-4056-b93e-0a2522e6afb2",
   "metadata": {},
   "outputs": [
    {
     "name": "stdout",
     "output_type": "stream",
     "text": [
      "Fail to reject the null hypothesis: There is no significant association between age groups and voter preferences.\n"
     ]
    }
   ],
   "source": [
    "alpha = 0.05\n",
    "if p <= alpha:\n",
    "    print(\"Reject the null hypothesis: There is a significant association between age groups and voter preferences.\")\n",
    "else:\n",
    "    print(\"Fail to reject the null hypothesis: There is no significant association between age groups and voter preferences.\")"
   ]
  },
  {
   "cell_type": "code",
   "execution_count": null,
   "id": "9864c516-25df-4e8f-8be1-dd0e699fa021",
   "metadata": {},
   "outputs": [],
   "source": [
    " 22. A company conducted a customer satisfaction survey to determine if there is a significant relationship\n",
    "between product satisfaction levels (Satisfied, Neutral, Dissatisfied) and the region where customers are\n",
    "located (East, West, North, South). The survey data is summarized in a contingency table. Conduct a ChiSquare test to determine if there is a significant relationship between product satisfaction levels and\n",
    "customer regions.\n",
    "\n",
    "\n",
    "Sample data:\n",
    "\n",
    "```python\n",
    "\n",
    "#Sample data: Product satisfaction levels (rows) vs. Customer regions (columns)\n",
    "\n",
    "data = np.array([[50, 30, 40, 20], [30, 40, 30, 50], [20, 30, 40, 30]])"
   ]
  },
  {
   "cell_type": "code",
   "execution_count": 76,
   "id": "81284b0d-9481-45b4-8189-44a75967da0b",
   "metadata": {},
   "outputs": [
    {
     "name": "stdout",
     "output_type": "stream",
     "text": [
      "Chi-square statistics :27.777056277056275\n",
      "p_value:0.00010349448486004387\n",
      "degree odf freedom:6\n",
      "Expected Frequencies:\n",
      "[[34.14634146 34.14634146 37.56097561 34.14634146]\n",
      " [36.58536585 36.58536585 40.24390244 36.58536585]\n",
      " [29.26829268 29.26829268 32.19512195 29.26829268]]\n",
      "Reject the null hypothesis: there is a significant relationship between product satisfaction levels and customer regions.\n"
     ]
    }
   ],
   "source": [
    "#data\n",
    "data = np.array([[50, 30, 40, 20], [30, 40, 30, 50], [20, 30, 40, 30]])\n",
    "\n",
    "chi2, p, dof, expected_values = stats.chi2_contingency(data)\n",
    "\n",
    "print(f\"Chi-square statistics :{chi2}\")\n",
    "print(f\"p_value:{p}\")\n",
    "print(f\"degree odf freedom:{dof}\")\n",
    "print(f\"Expected Frequencies:\")\n",
    "print(expected_values)\n",
    "\n",
    "alpha = 0.05\n",
    "if p <= alpha:\n",
    "    print(\"Reject the null hypothesis: there is a significant relationship between product satisfaction levels and customer regions.\")\n",
    "else:\n",
    "    print(\"Fail to reject the null hypothesis: there is no significant relationship between product satisfaction levels and customer regions.\")"
   ]
  },
  {
   "cell_type": "code",
   "execution_count": null,
   "id": "8b0a3436-5a73-4c21-924c-204120c8cf47",
   "metadata": {},
   "outputs": [],
   "source": [
    " 23. A company implemented an employee training program to improve job performance (Effective, Neutral,Ineffective). \n",
    "After the training, they collected data from a sample of employees and classified them based\n",
    "on their job performance before and after the training. Perform a Chi-Square test to determine if there is a\n",
    "significant difference between job performance levels before and after the training.\n",
    "\n",
    "\n",
    "Sample data:\n",
    "\n",
    "```python\n",
    "\n",
    "# Sample data: Job performance levels before (rows) and after (columns) training\n",
    "\n",
    "data = np.array([[50, 30, 20], [30, 40, 30], [20, 30, 40]])\n",
    "\n",
    "```"
   ]
  },
  {
   "cell_type": "code",
   "execution_count": 77,
   "id": "746602f4-9e41-4952-a1e1-ed93380df89f",
   "metadata": {},
   "outputs": [
    {
     "name": "stdout",
     "output_type": "stream",
     "text": [
      "Chi-square statistics :22.161728395061726\n",
      "p_value:0.00018609719479882557\n",
      "degree odf freedom:4\n",
      "Expected Frequencies:\n",
      "[[34.48275862 34.48275862 31.03448276]\n",
      " [34.48275862 34.48275862 31.03448276]\n",
      " [31.03448276 31.03448276 27.93103448]]\n",
      "Reject the null hypothesis: there is a significant relationship between product satisfaction levels and customer regions.\n"
     ]
    }
   ],
   "source": [
    "data = np.array([[50, 30, 20], [30, 40, 30], [20, 30, 40]])\n",
    "chi2, p, dof, expected_values = stats.chi2_contingency(data)\n",
    "\n",
    "print(f\"Chi-square statistics :{chi2}\")\n",
    "print(f\"p_value:{p}\")\n",
    "print(f\"degree odf freedom:{dof}\")\n",
    "print(f\"Expected Frequencies:\")\n",
    "print(expected_values)\n",
    "\n",
    "alpha = 0.05\n",
    "if p <= alpha:\n",
    "    print(\"Reject the null hypothesis:if there is a significant difference between job performance levels before and after the training.\")\n",
    "else:\n",
    "    print(\"Fail to reject the null hypothesis: if there is no significant difference between job performance levels before and after the training.\")"
   ]
  },
  {
   "cell_type": "code",
   "execution_count": null,
   "id": "06643eca-92bb-4cfb-ba70-0fb6afd0c6b1",
   "metadata": {},
   "outputs": [],
   "source": [
    " 24. A company produces three different versions of a product: Standard, Premium, and Deluxe. The\n",
    "company wants to determine if there is a significant difference in customer satisfaction scores among the\n",
    "three product versions. They conducted a survey and collected customer satisfaction scores for each\n",
    "version from a random sample of customers. Perform an ANOVA test to determine if there is a significant\n",
    "difference in customer satisfaction scores.\n",
    "\n",
    "\n",
    "  Use the following data:\n",
    "\n",
    "  ```python\n",
    "\n",
    "  # Sample data: Customer satisfaction scores for each product version\n",
    "\n",
    "  standard_scores = [80, 85, 90, 78, 88, 82, 92, 78, 85, 87]\n",
    "\n",
    "  premium_scores = [90, 92, 88, 92, 95, 91, 96, 93, 89, 93]\n",
    "\n",
    "  deluxe_scores = [95, 98, 92, 97, 96, 94, 98, 97, 92, 99]"
   ]
  },
  {
   "cell_type": "code",
   "execution_count": 95,
   "id": "588b2c53-3a05-4d4d-a7ed-31bf981c3d42",
   "metadata": {},
   "outputs": [],
   "source": [
    "#data\n",
    "standard_scores = [80, 85, 90, 78, 88, 82, 92, 78, 85, 87]\n",
    "\n",
    "premium_scores = [90, 92, 88, 92, 95, 91, 96, 93, 89, 93]\n",
    "\n",
    "deluxe_scores = [95, 98, 92, 97, 96, 94, 98, 97, 92, 99]\n",
    "\n",
    "#ftest\n",
    "fstats,p_value=stats.f_oneway(standard_scores,premium_scores,deluxe_scores)"
   ]
  },
  {
   "cell_type": "code",
   "execution_count": 98,
   "id": "c98abd43-2194-47f0-8e70-e3f04e007cc6",
   "metadata": {},
   "outputs": [
    {
     "name": "stdout",
     "output_type": "stream",
     "text": [
      "F-statistic: 27.03556231003039\n",
      "P-value: 3.5786328857349003e-07\n",
      "Reject the null hypothesis: There is a significant difference in customer satisfaction scores among the three product versions.\n"
     ]
    }
   ],
   "source": [
    "print(f\"F-statistic: {fstats}\")\n",
    "print(f\"P-value: {p_value}\")\n",
    "\n",
    "alpha = 0.05\n",
    "if p_value <= alpha:\n",
    "    print(\"Reject the null hypothesis: There is a significant difference in customer satisfaction scores among the three product versions.\")\n",
    "else:\n",
    "    print(\"Fail to reject the null hypothesis: There is no significant difference in customer satisfaction scores among the three product versions.\")"
   ]
  },
  {
   "cell_type": "code",
   "execution_count": null,
   "id": "a5ab564b-9d3c-41ad-b3d9-0355ca4e9b32",
   "metadata": {},
   "outputs": [],
   "source": []
  }
 ],
 "metadata": {
  "kernelspec": {
   "display_name": "Python 3 (ipykernel)",
   "language": "python",
   "name": "python3"
  },
  "language_info": {
   "codemirror_mode": {
    "name": "ipython",
    "version": 3
   },
   "file_extension": ".py",
   "mimetype": "text/x-python",
   "name": "python",
   "nbconvert_exporter": "python",
   "pygments_lexer": "ipython3",
   "version": "3.11.7"
  }
 },
 "nbformat": 4,
 "nbformat_minor": 5
}
